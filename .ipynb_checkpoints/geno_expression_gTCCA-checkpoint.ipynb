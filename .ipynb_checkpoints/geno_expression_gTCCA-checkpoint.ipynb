{
 "cells": [
  {
   "cell_type": "code",
   "execution_count": 5,
   "metadata": {},
   "outputs": [],
   "source": [
    "import sys\n",
    "import numpy as np\n",
    "import pandas as pd\n",
    "import scipy.linalg as la\n",
    "import matplotlib\n",
    "import seaborn as sns\n",
    "from pca_cca import util, twoDcca\n",
    "from sklearn import preprocessing\n",
    "from pandas_plink import read_plink"
   ]
  },
  {
   "cell_type": "code",
   "execution_count": 6,
   "metadata": {},
   "outputs": [],
   "source": [
    "def progressBar(bar_length, value, total):\n",
    "    '''\n",
    "    Prints a simple progress bar denoting progress in a for loop\n",
    "    '''\n",
    "\n",
    "    frac = value/(total)\n",
    "    prog = '+' * int(round(frac * bar_length))\n",
    "    space = ' ' * (bar_length - len(prog))\n",
    "\n",
    "    sys.stdout.write('\\rProgress: [{0}] {1:2.2f}%'.format('+' + prog + space, frac*100))\n",
    "    sys.stdout.flush()\n",
    "\n",
    "def OMat(x, p):\n",
    "    y = np.random.randn(x, p)\n",
    "    return la.qr(y,  mode='economic')[0]\n",
    "\n",
    "def normalize(M, A):\n",
    "    (U, D, V) = la.svd(M.T@A@M)\n",
    "    return M@U@np.diag(D**(-1/2))@V\n",
    "\n",
    "def towDcca_transform(X, L, R):\n",
    "    (_, k1) = L.shape\n",
    "    (_, k2) = R.shape\n",
    "    return (np.matmul(np.matmul(L.T, X), R)).reshape(-1, k1*k2)\n",
    "\n",
    "def SVRG(u, v, X, Y, rx, M, m, eta):\n",
    "    (n, _) = X.shape\n",
    "    for j in range(M):\n",
    "        w = u.copy()\n",
    "        batch_grad = X.T@(X@u-Y@v)/n+rx*u\n",
    "        for t in range(m):\n",
    "            i = np.random.choice(n, 1)[0]\n",
    "            grad = (X[i, :].dot(w-u))*X[i:i+1, :].T + rx*(w-u) + batch_grad\n",
    "            w -= eta*grad\n",
    "        u = w.copy()\n",
    "    return u\n",
    "\n",
    "def oneDcca_oneStep_SVRG(u0, v0, X, Y, M, m, eta, x_regular=1e-4, y_regular=1e-4):\n",
    "    (n, p) = X.shape\n",
    "    (_, q) = Y.shape\n",
    "\n",
    "    Sxx = np.matmul(X.T, X)/n+x_regular*np.eye(p)\n",
    "    Syy = np.matmul(Y.T, Y)/n+y_regular*np.eye(q)\n",
    "    \n",
    "    u = SVRG(u0, v0, X, Y, x_regular, M, m, eta)\n",
    "    u /= la.norm(u)\n",
    "#     u = normalize(u, Sxx)\n",
    "#     u /= np.sqrt(u.T@Sxx@u)\n",
    "    \n",
    "    v = SVRG(v0, u, Y, X, y_regular, M, m, eta)\n",
    "    v /= la.norm(v)\n",
    "#     v = normalize(v, Syy)\n",
    "#     v /= np.sqrt(v.T@Syy@v)\n",
    "    \n",
    "    du = la.norm(u-u0,ord='fro')\n",
    "    dv = la.norm(v-v0,ord='fro')\n",
    "    \n",
    "    return u, v, du, dv\n",
    "\n",
    "def initialization(X):\n",
    "    (N, m, n) = X.shape\n",
    "    L, R  = [np.random.randn(l, 1) for l in [m, n]]\n",
    "#     Var = ((L.T@X@R)**2).sum()/N\n",
    "#     return L/(Var**0.5), R/(Var**0.5)\n",
    "    return L/la.norm(L), R/la.norm(R)\n",
    "\n",
    "def proj(X, L, R):\n",
    "    (N, m, n) = X.shape\n",
    "    t = (L.T@X@R).reshape(-1,1)\n",
    "    P = (np.eye(N)-t@t.T/(t.T@t))\n",
    "    return (P@X.transpose(1,0,2)).transpose(1,0,2)\n",
    "\n",
    "def twoDcca_iter_onestep(X, Y, Lx, Rx, Ly, Ry, M, m, eta, x_regular, y_regular):\n",
    "    XR = np.matmul(X, Rx)[:,:,0]\n",
    "    YR = np.matmul(Y, Ry)[:,:,0]\n",
    "    (Lx, Ly, dLx, dLy) = oneDcca_oneStep_SVRG(Lx, Ly, XR, YR, M, m, eta, x_regular, y_regular)\n",
    "        \n",
    "    XL = np.matmul(X.transpose(0,2,1), Lx)[:,:,0]\n",
    "    YL = np.matmul(Y.transpose(0,2,1), Ly)[:,:,0]\n",
    "    (Rx, Ry, dRx, dRy) = oneDcca_oneStep_SVRG(Rx, Ry, XL, YL, M, m, eta, x_regular, y_regular)\n",
    "\n",
    "    X_tf = towDcca_transform(X, Lx, Rx)\n",
    "    Y_tf = towDcca_transform(Y, Ly, Ry)\n",
    "\n",
    "    return (Lx, Rx, Ly, Ry), la.norm(X_tf - Y_tf , ord='fro'), dLx+dLy+dRx+dRy\n",
    "    \n",
    "def twoDcca_iter(X, Y, M, m, eta, x_regular=1e-4, y_regular=1e-4, iter_max=10):\n",
    "    (_, mx, nx) = X.shape\n",
    "    (_, my, ny) = Y.shape\n",
    "    \n",
    "    (Lx1,Rx1) = initialization(X)\n",
    "    (Lx2,Rx2) = initialization(X)\n",
    "    (Ly1,Ry1) = initialization(Y)\n",
    "    (Ly2,Ry2) = initialization(Y)\n",
    "    \n",
    "    residual = np.zeros(iter_max+1)\n",
    "    error = np.zeros(iter_max+1)\n",
    "    \n",
    "    progressBar(40, 0, iter_max)\n",
    "    \n",
    "    (Lx1, Rx1, Ly1, Ry1), l1, e1 = twoDcca_iter_onestep(X, Y, Lx1, Rx1, Ly1, Ry1, M, m, eta, x_regular, y_regular)\n",
    "    \n",
    "    X_res = proj(X, Lx1, Rx1)\n",
    "    Y_res = proj(Y, Ly1, Ry1)\n",
    "    \n",
    "    (Lx2, Rx2, Ly2, Ry2), l2, e2 = twoDcca_iter_onestep(X_res, Y_res, Lx2, Rx2, Ly2, Ry2, M, m, eta, x_regular, y_regular)\n",
    "    \n",
    "    residual[0] = l1 + l2\n",
    "    error[0] = e1 + e2\n",
    "    \n",
    "    for n in range(iter_max):\n",
    "        progressBar(40, n+1, iter_max)\n",
    "        X_res = proj(X, Lx2, Rx2)\n",
    "        Y_res = proj(Y, Ly2, Ry2)\n",
    "        (Lx1, Rx1, Ly1, Ry1), l1, e1 = twoDcca_iter_onestep(X_res, Y_res, Lx1, Rx1, Ly1, Ry1, M, m, eta, x_regular, y_regular)\n",
    "    \n",
    "        X_res = proj(X, Lx1, Rx1)\n",
    "        Y_res = proj(Y, Ly1, Ry1)\n",
    "\n",
    "        (Lx2, Rx2, Ly2, Ry2), l2, e2 = twoDcca_iter_onestep(X_res, Y_res, Lx2, Rx2, Ly2, Ry2, M, m, eta, x_regular, y_regular)\n",
    "\n",
    "        residual[0] = l1 + l2\n",
    "        error[0] = e1 + e2\n",
    "        \n",
    "    return (Lx1, Rx1, Ly1, Ry1), (Lx2, Rx2, Ly2, Ry2), residual, error"
   ]
  },
  {
   "cell_type": "code",
   "execution_count": 17,
   "metadata": {},
   "outputs": [
    {
     "name": "stderr",
     "output_type": "stream",
     "text": [
      "\n",
      "Mapping files:   0%|          | 0/3 [00:00<?, ?it/s]\u001b[A\n",
      "Mapping files:  33%|███▎      | 1/3 [00:01<00:02,  1.01s/it]\u001b[A\n",
      "Mapping files: 100%|██████████| 3/3 [00:01<00:00,  1.31it/s]\u001b[A\n",
      "\u001b[A"
     ]
    }
   ],
   "source": [
    "exp_mat = pd.read_csv('expression_corrected.tsv', sep='\\t', index_col=0)\n",
    "sample_info = pd.read_csv('sample_info.txt', sep='\\t', index_col=0)\n",
    "(bim, fam, G) = read_plink('genotype/genotype_snps')"
   ]
  },
  {
   "cell_type": "code",
   "execution_count": 19,
   "metadata": {},
   "outputs": [],
   "source": [
    "common_inds = sample_info.index.intersection(exp_mat.index)\n",
    "\n",
    "index = fam[fam[\"iid\"].isin(common_inds)][\"i\"].values\n",
    "\n",
    "sample_info = sample_info.loc[common_inds]\n",
    "exp_mat = exp_mat.loc[common_inds].values\n",
    "geno_mat = G[:-1, index].compute().T\n",
    "# geno_mat = G[:40000, index].compute().T\n",
    "\n",
    "geno_mat = preprocessing.scale(geno_mat)\n",
    "exp_mat = preprocessing.scale(exp_mat)\n",
    "\n",
    "geno_mat = geno_mat.reshape(len(index),1014,-1)\n",
    "# geno_mat = geno_mat.reshape(len(index),200,-1)\n",
    "exp_mat = exp_mat.reshape(len(index),361,-1)\n",
    "\n",
    "\n",
    "geno_mat -= geno_mat.mean(axis=0)\n",
    "exp_mat -= exp_mat.mean(axis=0)"
   ]
  },
  {
   "cell_type": "code",
   "execution_count": 20,
   "metadata": {},
   "outputs": [
    {
     "data": {
      "text/plain": [
       "(318, 1014, 728)"
      ]
     },
     "execution_count": 20,
     "metadata": {},
     "output_type": "execute_result"
    }
   ],
   "source": [
    "geno_mat.shape"
   ]
  },
  {
   "cell_type": "code",
   "execution_count": 21,
   "metadata": {},
   "outputs": [
    {
     "data": {
      "text/plain": [
       "(318, 361, 39)"
      ]
     },
     "execution_count": 21,
     "metadata": {},
     "output_type": "execute_result"
    }
   ],
   "source": [
    "exp_mat.shape"
   ]
  },
  {
   "cell_type": "code",
   "execution_count": 113,
   "metadata": {},
   "outputs": [
    {
     "name": "stdout",
     "output_type": "stream",
     "text": [
      "Progress: [+++++++++++++++++++++++++++++++++++++++++] 100.00%"
     ]
    },
    {
     "data": {
      "image/png": "[encoded data removed]",
      "text/plain": [
       "<Figure size 417.5x360 with 1 Axes>"
      ]
     },
     "metadata": {
      "needs_background": "light"
     },
     "output_type": "display_data"
    }
   ],
   "source": [
    "loading1, loading2, residual, error = twoDcca_iter(exp_mat, geno_mat, M=40, m=1000, eta=0.0001, x_regular=.1, y_regular=1, iter_max=10)\n",
    "sample_info['Coordinate 1'] = towDcca_transform(exp_mat, *(loading1[:2])).flatten()\n",
    "sample_info['Coordinate 2'] = towDcca_transform(exp_mat, *(loading2[:2])).flatten()\n",
    "plot_pop = sns.lmplot(\n",
    "    'Coordinate 1', 'Coordinate 2', hue='pop', data=sample_info, fit_reg=False)\n",
    "plot_pop.savefig('cca_iter1.png')"
   ]
  }
 ],
 "metadata": {
  "kernelspec": {
   "display_name": "Python 3",
   "language": "python",
   "name": "python3"
  },
  "language_info": {
   "codemirror_mode": {
    "name": "ipython",
    "version": 3
   },
   "file_extension": ".py",
   "mimetype": "text/x-python",
   "name": "python",
   "nbconvert_exporter": "python",
   "pygments_lexer": "ipython3",
   "version": "3.6.2"
  }
 },
 "nbformat": 4,
 "nbformat_minor": 2
}
