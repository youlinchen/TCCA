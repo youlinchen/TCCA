{
 "cells": [
  {
   "cell_type": "markdown",
   "metadata": {},
   "source": [
    "# Electricity Demands in Adelaide\n",
    "\n",
    "These data sets consist of half-hourly electricity demands from Sunday to Saturday in Adelaide between 7/6/1997 and 3/31/2007."
   ]
  },
  {
   "cell_type": "code",
   "execution_count": 1,
   "metadata": {},
   "outputs": [],
   "source": [
    "import numpy as np\n",
    "import scipy.linalg as la\n",
    "import pandas as pd\n",
    "import matplotlib.pyplot as plt"
   ]
  },
  {
   "cell_type": "code",
   "execution_count": 2,
   "metadata": {},
   "outputs": [],
   "source": [
    "from util import *"
   ]
  },
  {
   "cell_type": "code",
   "execution_count": 3,
   "metadata": {},
   "outputs": [],
   "source": [
    "week = [\"monday\",\"tuesday\",\"wednesday\",\"thursday\",\"friday\",\"saturday\",\"sunday\"]"
   ]
  },
  {
   "cell_type": "markdown",
   "metadata": {},
   "source": [
    "# import data"
   ]
  },
  {
   "cell_type": "code",
   "execution_count": 4,
   "metadata": {},
   "outputs": [],
   "source": [
    "D = np.zeros((7, 48, 508))\n",
    "for i,w in enumerate(week):\n",
    "    filename = \"Adelaide/\"+w+\"demand_log_median_adj.csv\"\n",
    "    data = pd.read_csv(filename, index_col=0)\n",
    "    D[i,:,:] = data.values\n",
    "\n",
    "T = np.zeros((7,48,508))\n",
    "for i,w in enumerate(week):\n",
    "    filename = \"Adelaide/\"+w+\"tempkent_median_adj.csv\"\n",
    "    data = pd.read_csv(filename, index_col=0)\n",
    "    T[i,:,:] = data.values"
   ]
  },
  {
   "cell_type": "markdown",
   "metadata": {},
   "source": [
    "# all time"
   ]
  },
  {
   "cell_type": "code",
   "execution_count": 8,
   "metadata": {},
   "outputs": [
    {
     "name": "stdout",
     "output_type": "stream",
     "text": [
      "0.9729785328655269\n"
     ]
    }
   ],
   "source": [
    "[inputX, inputY] = list(map(lambda x:x[:,:,:].transpose(2,1,0), (D,T))) \n",
    "[inputX, inputY] = list(map(lambda x:x-x.mean(axis=0), (inputX,inputY))) \n",
    "\n",
    "(loading, corr) = twoDcca(inputX, inputY, x_regular=0.01, y_regular=0.01, iter_max=30)\n",
    "for i in range(20):\n",
    "    (loading_tmp, corr_tmp) = twoDcca(inputX, inputY, x_regular=0.01, y_regular=0.01, iter_max=30)\n",
    "    if corr<corr_tmp:\n",
    "        corr = corr_tmp\n",
    "        loading = loading_tmp\n",
    "print(corr)\n",
    "corr_24 = corr\n",
    "loading_24 = loading"
   ]
  },
  {
   "cell_type": "code",
   "execution_count": 9,
   "metadata": {},
   "outputs": [
    {
     "name": "stdout",
     "output_type": "stream",
     "text": [
      "     monday   tuesday  wednesday  thursday    friday  saturday    sunday\n",
      "D  0.240476  0.414098   0.385959  0.436324  0.420156  0.441493  0.244753\n",
      "T  0.375444  0.256239   0.361829  0.407468  0.234358  0.454372  0.484825\n",
      "\n",
      "\n",
      "\\begin{tabular}{lrrrrrrr}\n",
      "\\toprule\n",
      "{} &    monday &   tuesday &  wednesday &  thursday &    friday &  saturday &    sunday \\\\\n",
      "\\midrule\n",
      "D &  0.240476 &  0.414098 &   0.385959 &  0.436324 &  0.420156 &  0.441493 &  0.244753 \\\\\n",
      "T &  0.375444 &  0.256239 &   0.361829 &  0.407468 &  0.234358 &  0.454372 &  0.484825 \\\\\n",
      "\\bottomrule\n",
      "\\end{tabular}\n",
      "\n"
     ]
    }
   ],
   "source": [
    "data = [loading[1].flatten(),loading[3].flatten()]\n",
    "df = pd.DataFrame(data,columns=week, index=['D','T'],dtype=float)\n",
    "print(df)\n",
    "print('\\n')\n",
    "print(df.to_latex())"
   ]
  },
  {
   "cell_type": "code",
   "execution_count": 10,
   "metadata": {},
   "outputs": [
    {
     "name": "stdout",
     "output_type": "stream",
     "text": [
      "         1         2         3         4         5         6        7   \\\n",
      "0  0.080865  0.076704  0.104684  0.104345  0.061872  0.021793 -0.02173   \n",
      "\n",
      "         8         9         10  ...        39        40        41        42  \\\n",
      "0 -0.067592 -0.099602 -0.121756  ...  0.214163  0.206319  0.135637  0.071573   \n",
      "\n",
      "         43        44        45        46        47        48  \n",
      "0  0.058267  0.069037  0.080476  0.055145  0.004033  0.062024  \n",
      "\n",
      "[1 rows x 48 columns]\n",
      "\n",
      "\n",
      "\\begin{tabular}{lrrrrrrrrrrrrrrrrrrrrrrrrrrrrrrrrrrrrrrrrrrrrrrrr}\n",
      "\\toprule\n",
      "{} &         1 &         2 &         3 &         4 &         5 &         6 &        7 &         8 &         9 &        10 &        11 &        12 &        13 &        14 &        15 &        16 &        17 &        18 &        19 &       20 &        21 &        22 &        23 &        24 &        25 &        26 &        27 &        28 &        29 &       30 &        31 &        32 &        33 &        34 &        35 &        36 &        37 &        38 &        39 &        40 &        41 &        42 &        43 &        44 &        45 &        46 &        47 &        48 \\\\\n",
      "\\midrule\n",
      "0 &  0.080865 &  0.076704 &  0.104684 &  0.104345 &  0.061872 &  0.021793 & -0.02173 & -0.067592 & -0.099602 & -0.121756 & -0.121268 & -0.075742 &  0.001945 &  0.086361 &  0.129475 &  0.144199 &  0.155905 &  0.156183 &  0.151137 &  0.12593 &  0.064459 & -0.002591 & -0.066163 & -0.116019 & -0.145108 & -0.174616 & -0.179969 & -0.177918 & -0.206255 & -0.23821 & -0.262698 & -0.284979 & -0.280817 & -0.227089 & -0.121104 &  0.054085 &  0.231577 &  0.237779 &  0.214163 &  0.206319 &  0.135637 &  0.071573 &  0.058267 &  0.069037 &  0.080476 &  0.055145 &  0.004033 &  0.062024 \\\\\n",
      "\\bottomrule\n",
      "\\end{tabular}\n",
      "\n"
     ]
    }
   ],
   "source": [
    "data = [loading_24[0].flatten()]\n",
    "df = pd.DataFrame(data,columns=range(1,49),dtype=float)\n",
    "print(df)\n",
    "print('\\n')\n",
    "print(df.to_latex())"
   ]
  },
  {
   "cell_type": "markdown",
   "metadata": {},
   "source": [
    "# daytime"
   ]
  },
  {
   "cell_type": "code",
   "execution_count": 12,
   "metadata": {},
   "outputs": [
    {
     "name": "stdout",
     "output_type": "stream",
     "text": [
      "0.8852901878437583\n"
     ]
    }
   ],
   "source": [
    "[inputX, inputY] = list(map(lambda x:x[:,20:30,:].transpose(2,1,0), (D,T))) \n",
    "[inputX, inputY] = list(map(lambda x:x-x.mean(axis=0), (inputX,inputY))) \n",
    "\n",
    "(loading, corr) = twoDcca(inputX, inputY, x_regular=0.01, y_regular=0.01, iter_max=30)\n",
    "for i in range(20):\n",
    "    (loading_tmp, corr_tmp) = twoDcca(inputX, inputY, x_regular=0.01, y_regular=0.01, iter_max=30)\n",
    "    if corr<corr_tmp:\n",
    "        corr = corr_tmp\n",
    "        loading = loading_tmp\n",
    "print(corr)\n",
    "corr_10_15 = corr\n",
    "loading_10_15 = loading"
   ]
  },
  {
   "cell_type": "code",
   "execution_count": 13,
   "metadata": {},
   "outputs": [
    {
     "name": "stdout",
     "output_type": "stream",
     "text": [
      "     monday   tuesday  wednesday  thursday    friday  saturday    sunday\n",
      "D -0.375579 -0.437686  -0.440435 -0.432271 -0.396888 -0.299485 -0.198292\n",
      "T -0.427604 -0.483161  -0.275775 -0.452300 -0.306348 -0.235345 -0.392232\n",
      "\n",
      "\n",
      "\\begin{tabular}{lrrrrrrr}\n",
      "\\toprule\n",
      "{} &    monday &   tuesday &  wednesday &  thursday &    friday &  saturday &    sunday \\\\\n",
      "\\midrule\n",
      "D & -0.375579 & -0.437686 &  -0.440435 & -0.432271 & -0.396888 & -0.299485 & -0.198292 \\\\\n",
      "T & -0.427604 & -0.483161 &  -0.275775 & -0.452300 & -0.306348 & -0.235345 & -0.392232 \\\\\n",
      "\\bottomrule\n",
      "\\end{tabular}\n",
      "\n"
     ]
    }
   ],
   "source": [
    "data = [loading[1].flatten(),loading[3].flatten()]\n",
    "df = pd.DataFrame(data,columns=week, index=['D','T'],dtype=float)\n",
    "print(df)\n",
    "print('\\n')\n",
    "print(df.to_latex())"
   ]
  },
  {
   "cell_type": "code",
   "execution_count": 14,
   "metadata": {},
   "outputs": [
    {
     "name": "stdout",
     "output_type": "stream",
     "text": [
      "         20        21        22        23        24        25        26  \\\n",
      "0 -0.611118 -0.384674 -0.164506 -0.083782  0.012175  0.197989  0.281329   \n",
      "\n",
      "         27       28        29  \n",
      "0  0.263936  0.32116  0.391379  \n",
      "\n",
      "\n",
      "\\begin{tabular}{lrrrrrrrrrr}\n",
      "\\toprule\n",
      "{} &        20 &        21 &        22 &        23 &        24 &        25 &        26 &        27 &       28 &        29 \\\\\n",
      "\\midrule\n",
      "0 & -0.611118 & -0.384674 & -0.164506 & -0.083782 &  0.012175 &  0.197989 &  0.281329 &  0.263936 &  0.32116 &  0.391379 \\\\\n",
      "\\bottomrule\n",
      "\\end{tabular}\n",
      "\n"
     ]
    }
   ],
   "source": [
    "data = [loading_10_15[0].flatten()]\n",
    "df = pd.DataFrame(data,columns=range(20,30),dtype=float)\n",
    "print(df)\n",
    "print('\\n')\n",
    "print(df.to_latex())"
   ]
  },
  {
   "cell_type": "markdown",
   "metadata": {},
   "source": [
    "# night"
   ]
  },
  {
   "cell_type": "code",
   "execution_count": 15,
   "metadata": {},
   "outputs": [
    {
     "name": "stdout",
     "output_type": "stream",
     "text": [
      "0.7136840016190626\n"
     ]
    }
   ],
   "source": [
    "[inputX, inputY] = list(map(lambda x:x[:,36:46,:].transpose(2,1,0), (D,T))) \n",
    "[inputX, inputY] = list(map(lambda x:x-x.mean(axis=0), (inputX,inputY))) \n",
    "\n",
    "(loading, corr) = twoDcca(inputX, inputY, x_regular=0.01, y_regular=0.01, iter_max=30)\n",
    "for i in range(20):\n",
    "    (loading_tmp, corr_tmp) = twoDcca(inputX, inputY, x_regular=0.01, y_regular=0.01, iter_max=30)\n",
    "    if corr<corr_tmp:\n",
    "        corr = corr_tmp\n",
    "        loading = loading_tmp\n",
    "print(corr)\n",
    "corr_18_23 = corr\n",
    "loading_18_23 = loading"
   ]
  },
  {
   "cell_type": "code",
   "execution_count": 16,
   "metadata": {},
   "outputs": [
    {
     "name": "stdout",
     "output_type": "stream",
     "text": [
      "     monday   tuesday  wednesday  thursday    friday  saturday    sunday\n",
      "D  0.195117  0.325723   0.528821  0.160848 -0.323589 -0.584402 -0.322605\n",
      "T -0.434551 -0.215048  -0.507803  0.058006  0.400331  0.505956  0.295693\n",
      "\n",
      "\n",
      "\\begin{tabular}{lrrrrrrr}\n",
      "\\toprule\n",
      "{} &    monday &   tuesday &  wednesday &  thursday &    friday &  saturday &    sunday \\\\\n",
      "\\midrule\n",
      "D &  0.195117 &  0.325723 &   0.528821 &  0.160848 & -0.323589 & -0.584402 & -0.322605 \\\\\n",
      "T & -0.434551 & -0.215048 &  -0.507803 &  0.058006 &  0.400331 &  0.505956 &  0.295693 \\\\\n",
      "\\bottomrule\n",
      "\\end{tabular}\n",
      "\n"
     ]
    }
   ],
   "source": [
    "data = [loading[1].flatten(),loading[3].flatten()]\n",
    "df = pd.DataFrame(data,columns=week, index=['D','T'],dtype=float)\n",
    "print(df)\n",
    "print('\\n')\n",
    "print(df.to_latex())"
   ]
  },
  {
   "cell_type": "code",
   "execution_count": 17,
   "metadata": {},
   "outputs": [
    {
     "name": "stdout",
     "output_type": "stream",
     "text": [
      "         36        37       38        39        40        41       42  \\\n",
      "0  0.675839  0.522983  0.38367  0.275399  0.167315  0.108852  0.06556   \n",
      "\n",
      "         43        44        45  \n",
      "0  0.033246  0.024639  0.028783  \n",
      "\n",
      "\n",
      "\\begin{tabular}{lrrrrrrrrrr}\n",
      "\\toprule\n",
      "{} &        36 &        37 &       38 &        39 &        40 &        41 &       42 &        43 &        44 &        45 \\\\\n",
      "\\midrule\n",
      "0 &  0.675839 &  0.522983 &  0.38367 &  0.275399 &  0.167315 &  0.108852 &  0.06556 &  0.033246 &  0.024639 &  0.028783 \\\\\n",
      "\\bottomrule\n",
      "\\end{tabular}\n",
      "\n"
     ]
    }
   ],
   "source": [
    "data = [loading_18_23[0].flatten()]\n",
    "df = pd.DataFrame(data,columns=range(36,46),dtype=float)\n",
    "print(df)\n",
    "print('\\n')\n",
    "print(df.to_latex())"
   ]
  },
  {
   "cell_type": "markdown",
   "metadata": {},
   "source": [
    "# summary"
   ]
  },
  {
   "cell_type": "code",
   "execution_count": 18,
   "metadata": {},
   "outputs": [
    {
     "name": "stdout",
     "output_type": "stream",
     "text": [
      "          A        D         N\n",
      "0  0.972979  0.88529  0.713684\n",
      "\n",
      "\n",
      "\\begin{tabular}{lrrr}\n",
      "\\toprule\n",
      "{} &         A &        D &         N \\\\\n",
      "\\midrule\n",
      "0 &  0.972979 &  0.88529 &  0.713684 \\\\\n",
      "\\bottomrule\n",
      "\\end{tabular}\n",
      "\n"
     ]
    }
   ],
   "source": [
    "data = [corr_24, corr_10_15, corr_18_23]\n",
    "df = pd.DataFrame(data,index=[\"A\",\"D\",\"N\"],dtype=float)\n",
    "print(df.T)\n",
    "print('\\n')\n",
    "print(df.T.to_latex())"
   ]
  }
 ],
 "metadata": {
  "kernelspec": {
   "display_name": "Python 3",
   "language": "python",
   "name": "python3"
  },
  "language_info": {
   "codemirror_mode": {
    "name": "ipython",
    "version": 3
   },
   "file_extension": ".py",
   "mimetype": "text/x-python",
   "name": "python",
   "nbconvert_exporter": "python",
   "pygments_lexer": "ipython3",
   "version": "3.6.7"
  }
 },
 "nbformat": 4,
 "nbformat_minor": 4
}
