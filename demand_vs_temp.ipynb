{
 "cells": [
  {
   "cell_type": "code",
   "execution_count": 1,
   "metadata": {},
   "outputs": [],
   "source": [
    "import numpy as np\n",
    "import scipy.linalg as la\n",
    "import pandas as pd\n",
    "import matplotlib.pyplot as plt"
   ]
  },
  {
   "cell_type": "code",
   "execution_count": 2,
   "metadata": {},
   "outputs": [],
   "source": [
    "from util import *"
   ]
  },
  {
   "cell_type": "code",
   "execution_count": 3,
   "metadata": {},
   "outputs": [],
   "source": [
    "week = [\"monday\",\"tuesday\",\"wednesday\",\"thursday\",\"friday\",\"saturday\",\"sunday\"]"
   ]
  },
  {
   "cell_type": "code",
   "execution_count": 4,
   "metadata": {},
   "outputs": [],
   "source": [
    "# These data sets consist of half-hourly electricity demands from Sunday to Saturday in Adelaide between 7/6/1997 and 3/31/2007"
   ]
  },
  {
   "cell_type": "code",
   "execution_count": 5,
   "metadata": {},
   "outputs": [],
   "source": [
    "# import data"
   ]
  },
  {
   "cell_type": "code",
   "execution_count": 6,
   "metadata": {},
   "outputs": [],
   "source": [
    "D = np.zeros((7, 48, 508))\n",
    "for i,w in enumerate(week):\n",
    "    filename = \"Adelaide/\"+w+\"demand_log_median_adj.csv\"\n",
    "    data = pd.read_csv(filename, index_col=0)\n",
    "    D[i,:,:] = data.values\n",
    "\n",
    "T = np.zeros((7,48,508))\n",
    "for i,w in enumerate(week):\n",
    "    filename = \"Adelaide/\"+w+\"tempkent_median_adj.csv\"\n",
    "    data = pd.read_csv(filename, index_col=0)\n",
    "    T[i,:,:] = data.values"
   ]
  },
  {
   "cell_type": "code",
   "execution_count": 7,
   "metadata": {},
   "outputs": [],
   "source": [
    "# all time"
   ]
  },
  {
   "cell_type": "code",
   "execution_count": 8,
   "metadata": {},
   "outputs": [
    {
     "name": "stdout",
     "output_type": "stream",
     "text": [
      "0.9729783188982911\n"
     ]
    }
   ],
   "source": [
    "[inputX, inputY] = list(map(lambda x:x[:,:,:].transpose(2,1,0), (D,T))) \n",
    "[inputX, inputY] = list(map(lambda x:x-x.mean(axis=0), (inputX,inputY))) \n",
    "\n",
    "(loading, corr, error) = twoDcca(inputX, inputY, x_regular=0.01, y_regular=0.01, iter_max=30)\n",
    "for i in range(20):\n",
    "    (loading_tmp, corr_tmp, error_tmp) = twoDcca(inputX, inputY, x_regular=0.01, y_regular=0.01, iter_max=30)\n",
    "    if corr[-1]<corr_tmp[-1]:\n",
    "        corr = corr_tmp\n",
    "        loading = loading_tmp\n",
    "print(corr[-1])\n",
    "corr_24 = corr[-1]\n",
    "loading_24 = loading"
   ]
  },
  {
   "cell_type": "code",
   "execution_count": 9,
   "metadata": {},
   "outputs": [
    {
     "name": "stdout",
     "output_type": "stream",
     "text": [
      "     monday   tuesday  wednesday  thursday    friday  saturday    sunday\n",
      "D -0.240342 -0.413937  -0.385857 -0.436257 -0.420188 -0.441782 -0.244859\n",
      "T  0.375289  0.256011   0.361851  0.407381  0.234240  0.454566  0.484998\n",
      "\n",
      "\n",
      "\\begin{tabular}{lrrrrrrr}\n",
      "\\toprule\n",
      "{} &    monday &   tuesday &  wednesday &  thursday &    friday &  saturday &    sunday \\\\\n",
      "\\midrule\n",
      "D & -0.240342 & -0.413937 &  -0.385857 & -0.436257 & -0.420188 & -0.441782 & -0.244859 \\\\\n",
      "T &  0.375289 &  0.256011 &   0.361851 &  0.407381 &  0.234240 &  0.454566 &  0.484998 \\\\\n",
      "\\bottomrule\n",
      "\\end{tabular}\n",
      "\n"
     ]
    }
   ],
   "source": [
    "data = [loading[1].flatten(),loading[3].flatten()]\n",
    "df = pd.DataFrame(data,columns=week, index=['D','T'],dtype=float)\n",
    "print(df)\n",
    "print('\\n')\n",
    "print(df.to_latex())"
   ]
  },
  {
   "cell_type": "code",
   "execution_count": 10,
   "metadata": {},
   "outputs": [
    {
     "name": "stdout",
     "output_type": "stream",
     "text": [
      "         1         2         3         4         5         6         7   \\\n",
      "0  0.080893  0.076692  0.104656  0.104315  0.061855  0.021799 -0.021708   \n",
      "\n",
      "         8         9         10  ...        39        40        41        42  \\\n",
      "0 -0.067553 -0.099564 -0.121707  ...  0.214235  0.206331  0.135624  0.071565   \n",
      "\n",
      "         43        44        45        46        47        48  \n",
      "0  0.058257  0.069031  0.080471  0.055146  0.004072  0.062109  \n",
      "\n",
      "[1 rows x 48 columns]\n",
      "\n",
      "\n",
      "\\begin{tabular}{lrrrrrrrrrrrrrrrrrrrrrrrrrrrrrrrrrrrrrrrrrrrrrrrr}\n",
      "\\toprule\n",
      "{} &        1  &        2  &        3  &        4  &        5  &        6  &        7  &        8  &        9  &        10 &        11 &        12 &       13 &        14 &        15 &        16 &        17 &        18 &        19 &        20 &        21 &        22 &        23 &        24 &        25 &       26 &        27 &        28 &        29 &       30 &        31 &        32 &        33 &        34 &        35 &        36 &        37 &        38 &        39 &        40 &        41 &        42 &        43 &        44 &        45 &        46 &        47 &        48 \\\\\n",
      "\\midrule\n",
      "0 &  0.080893 &  0.076692 &  0.104656 &  0.104315 &  0.061855 &  0.021799 & -0.021708 & -0.067553 & -0.099564 & -0.121707 & -0.121219 & -0.075697 &  0.00198 &  0.086356 &  0.129437 &  0.144148 &  0.155857 &  0.156128 &  0.151082 &  0.125877 &  0.064411 & -0.002636 & -0.066199 & -0.116035 & -0.145121 & -0.17463 & -0.179988 & -0.177934 & -0.206268 & -0.23821 & -0.262697 & -0.284969 & -0.280792 & -0.227063 & -0.121058 &  0.054152 &  0.231686 &  0.237905 &  0.214235 &  0.206331 &  0.135624 &  0.071565 &  0.058257 &  0.069031 &  0.080471 &  0.055146 &  0.004072 &  0.062109 \\\\\n",
      "\\bottomrule\n",
      "\\end{tabular}\n",
      "\n"
     ]
    }
   ],
   "source": [
    "data = [loading_24[0].flatten()]\n",
    "df = pd.DataFrame(data,columns=range(1,49),dtype=float)\n",
    "print(df)\n",
    "print('\\n')\n",
    "print(df.to_latex())"
   ]
  },
  {
   "cell_type": "code",
   "execution_count": 11,
   "metadata": {},
   "outputs": [],
   "source": [
    "# daytime"
   ]
  },
  {
   "cell_type": "code",
   "execution_count": 12,
   "metadata": {},
   "outputs": [
    {
     "name": "stdout",
     "output_type": "stream",
     "text": [
      "0.885290188028615\n"
     ]
    }
   ],
   "source": [
    "[inputX, inputY] = list(map(lambda x:x[:,20:30,:].transpose(2,1,0), (D,T))) \n",
    "[inputX, inputY] = list(map(lambda x:x-x.mean(axis=0), (inputX,inputY))) \n",
    "\n",
    "(loading, corr, error) = twoDcca(inputX, inputY, x_regular=0.01, y_regular=0.01, iter_max=30)\n",
    "for i in range(20):\n",
    "    (loading_tmp, corr_tmp, error_tmp) = twoDcca(inputX, inputY, x_regular=0.01, y_regular=0.01, iter_max=30)\n",
    "    if corr[-1]<corr_tmp[-1]:\n",
    "        corr = corr_tmp\n",
    "        loading = loading_tmp\n",
    "print(corr[-1])\n",
    "corr_10_15 = corr[-1]\n",
    "loading_10_15 = loading"
   ]
  },
  {
   "cell_type": "code",
   "execution_count": 13,
   "metadata": {},
   "outputs": [
    {
     "name": "stdout",
     "output_type": "stream",
     "text": [
      "     monday   tuesday  wednesday  thursday    friday  saturday    sunday\n",
      "D -0.375579 -0.437686  -0.440435 -0.432271 -0.396888 -0.299485 -0.198292\n",
      "T  0.427604  0.483161   0.275775  0.452300  0.306348  0.235345  0.392232\n",
      "\n",
      "\n",
      "\\begin{tabular}{lrrrrrrr}\n",
      "\\toprule\n",
      "{} &    monday &   tuesday &  wednesday &  thursday &    friday &  saturday &    sunday \\\\\n",
      "\\midrule\n",
      "D & -0.375579 & -0.437686 &  -0.440435 & -0.432271 & -0.396888 & -0.299485 & -0.198292 \\\\\n",
      "T &  0.427604 &  0.483161 &   0.275775 &  0.452300 &  0.306348 &  0.235345 &  0.392232 \\\\\n",
      "\\bottomrule\n",
      "\\end{tabular}\n",
      "\n"
     ]
    }
   ],
   "source": [
    "data = [loading[1].flatten(),loading[3].flatten()]\n",
    "df = pd.DataFrame(data,columns=week, index=['D','T'],dtype=float)\n",
    "print(df)\n",
    "print('\\n')\n",
    "print(df.to_latex())"
   ]
  },
  {
   "cell_type": "code",
   "execution_count": 14,
   "metadata": {},
   "outputs": [
    {
     "name": "stdout",
     "output_type": "stream",
     "text": [
      "         20        21        22        23        24        25        26  \\\n",
      "0 -0.611118 -0.384674 -0.164506 -0.083782  0.012175  0.197989  0.281329   \n",
      "\n",
      "         27       28        29  \n",
      "0  0.263936  0.32116  0.391379  \n",
      "\n",
      "\n",
      "\\begin{tabular}{lrrrrrrrrrr}\n",
      "\\toprule\n",
      "{} &        20 &        21 &        22 &        23 &        24 &        25 &        26 &        27 &       28 &        29 \\\\\n",
      "\\midrule\n",
      "0 & -0.611118 & -0.384674 & -0.164506 & -0.083782 &  0.012175 &  0.197989 &  0.281329 &  0.263936 &  0.32116 &  0.391379 \\\\\n",
      "\\bottomrule\n",
      "\\end{tabular}\n",
      "\n"
     ]
    }
   ],
   "source": [
    "data = [loading_10_15[0].flatten()]\n",
    "df = pd.DataFrame(data,columns=range(20,30),dtype=float)\n",
    "print(df)\n",
    "print('\\n')\n",
    "print(df.to_latex())"
   ]
  },
  {
   "cell_type": "code",
   "execution_count": 15,
   "metadata": {},
   "outputs": [],
   "source": [
    "# night"
   ]
  },
  {
   "cell_type": "code",
   "execution_count": null,
   "metadata": {},
   "outputs": [],
   "source": []
  },
  {
   "cell_type": "code",
   "execution_count": 16,
   "metadata": {},
   "outputs": [
    {
     "name": "stdout",
     "output_type": "stream",
     "text": [
      "0.7136825621619554\n"
     ]
    }
   ],
   "source": [
    "[inputX, inputY] = list(map(lambda x:x[:,36:46,:].transpose(2,1,0), (D,T))) \n",
    "[inputX, inputY] = list(map(lambda x:x-x.mean(axis=0), (inputX,inputY))) \n",
    "\n",
    "(loading, corr, error) = twoDcca(inputX, inputY, x_regular=0.01, y_regular=0.01, iter_max=30)\n",
    "for i in range(20):\n",
    "    (loading_tmp, corr_tmp, error_tmp) = twoDcca(inputX, inputY, x_regular=0.01, y_regular=0.01, iter_max=30)\n",
    "    if corr[-1]<corr_tmp[-1]:\n",
    "        corr = corr_tmp\n",
    "        loading = loading_tmp\n",
    "print(corr[-1])\n",
    "corr_18_23 = corr[-1]\n",
    "loading_18_23 = loading"
   ]
  },
  {
   "cell_type": "code",
   "execution_count": 17,
   "metadata": {},
   "outputs": [
    {
     "name": "stdout",
     "output_type": "stream",
     "text": [
      "     monday   tuesday  wednesday  thursday    friday  saturday    sunday\n",
      "D  0.195150  0.325774   0.528816  0.160763 -0.323641 -0.584392 -0.322551\n",
      "T -0.434566 -0.215069  -0.507787  0.058075  0.400374  0.505946  0.295630\n",
      "\n",
      "\n",
      "\\begin{tabular}{lrrrrrrr}\n",
      "\\toprule\n",
      "{} &    monday &   tuesday &  wednesday &  thursday &    friday &  saturday &    sunday \\\\\n",
      "\\midrule\n",
      "D &  0.195150 &  0.325774 &   0.528816 &  0.160763 & -0.323641 & -0.584392 & -0.322551 \\\\\n",
      "T & -0.434566 & -0.215069 &  -0.507787 &  0.058075 &  0.400374 &  0.505946 &  0.295630 \\\\\n",
      "\\bottomrule\n",
      "\\end{tabular}\n",
      "\n"
     ]
    }
   ],
   "source": [
    "data = [loading[1].flatten(),loading[3].flatten()]\n",
    "df = pd.DataFrame(data,columns=week, index=['D','T'],dtype=float)\n",
    "print(df)\n",
    "print('\\n')\n",
    "print(df.to_latex())"
   ]
  },
  {
   "cell_type": "code",
   "execution_count": 18,
   "metadata": {},
   "outputs": [
    {
     "name": "stdout",
     "output_type": "stream",
     "text": [
      "         36        37        38        39        40        41        42  \\\n",
      "0 -0.675845 -0.522982 -0.383667 -0.275396 -0.167314 -0.108846 -0.065553   \n",
      "\n",
      "         43        44        45  \n",
      "0 -0.033245 -0.024643 -0.028787  \n",
      "\n",
      "\n",
      "\\begin{tabular}{lrrrrrrrrrr}\n",
      "\\toprule\n",
      "{} &        36 &        37 &        38 &        39 &        40 &        41 &        42 &        43 &        44 &        45 \\\\\n",
      "\\midrule\n",
      "0 & -0.675845 & -0.522982 & -0.383667 & -0.275396 & -0.167314 & -0.108846 & -0.065553 & -0.033245 & -0.024643 & -0.028787 \\\\\n",
      "\\bottomrule\n",
      "\\end{tabular}\n",
      "\n"
     ]
    }
   ],
   "source": [
    "data = [loading_18_23[0].flatten()]\n",
    "df = pd.DataFrame(data,columns=range(36,46),dtype=float)\n",
    "print(df)\n",
    "print('\\n')\n",
    "print(df.to_latex())"
   ]
  },
  {
   "cell_type": "code",
   "execution_count": 19,
   "metadata": {},
   "outputs": [],
   "source": [
    "# summary"
   ]
  },
  {
   "cell_type": "code",
   "execution_count": 20,
   "metadata": {},
   "outputs": [
    {
     "name": "stdout",
     "output_type": "stream",
     "text": [
      "          A        D         N\n",
      "0  0.972978  0.88529  0.713683\n",
      "\n",
      "\n",
      "\\begin{tabular}{lrrr}\n",
      "\\toprule\n",
      "{} &         A &        D &         N \\\\\n",
      "\\midrule\n",
      "0 &  0.972978 &  0.88529 &  0.713683 \\\\\n",
      "\\bottomrule\n",
      "\\end{tabular}\n",
      "\n"
     ]
    }
   ],
   "source": [
    "data = [corr_24, corr_10_15, corr_18_23]\n",
    "df = pd.DataFrame(data,index=[\"A\",\"D\",\"N\"],dtype=float)\n",
    "print(df.T)\n",
    "print('\\n')\n",
    "print(df.T.to_latex())"
   ]
  }
 ],
 "metadata": {
  "kernelspec": {
   "display_name": "Python 3",
   "language": "python",
   "name": "python3"
  },
  "language_info": {
   "codemirror_mode": {
    "name": "ipython",
    "version": 3
   },
   "file_extension": ".py",
   "mimetype": "text/x-python",
   "name": "python",
   "nbconvert_exporter": "python",
   "pygments_lexer": "ipython3",
   "version": "3.7.2"
  }
 },
 "nbformat": 4,
 "nbformat_minor": 2
}
