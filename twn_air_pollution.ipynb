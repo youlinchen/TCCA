{
 "cells": [
  {
   "cell_type": "markdown",
   "metadata": {},
   "source": [
    "#  Air Pollution Data in Taiwan"
   ]
  },
  {
   "cell_type": "code",
   "execution_count": 1,
   "metadata": {},
   "outputs": [],
   "source": [
    "import numpy as np\n",
    "import scipy.linalg as la\n",
    "import pandas as pd\n",
    "import matplotlib.pyplot as plt\n",
    "import seaborn as sns"
   ]
  },
  {
   "cell_type": "code",
   "execution_count": 2,
   "metadata": {},
   "outputs": [],
   "source": [
    "import folium\n",
    "from folium.features import DivIcon"
   ]
  },
  {
   "cell_type": "code",
   "execution_count": 3,
   "metadata": {},
   "outputs": [],
   "source": [
    "from util import *"
   ]
  },
  {
   "cell_type": "code",
   "execution_count": 4,
   "metadata": {},
   "outputs": [],
   "source": [
    "# import the station information"
   ]
  },
  {
   "cell_type": "code",
   "execution_count": 5,
   "metadata": {},
   "outputs": [],
   "source": [
    "station_chi = [\"古亭\",\"土城\",\"桃園\",\"新竹\",\n",
    "               \"二林\",\"新營\",\"小港\",\"美濃\",\n",
    "               \"宜蘭\",\"冬山\",\"花蓮\",\"臺東\"]"
   ]
  },
  {
   "cell_type": "code",
   "execution_count": 6,
   "metadata": {},
   "outputs": [],
   "source": [
    "stations_n = [\"Guting\",\"Tucheng\",\"Taoyuan\",\"Hsinchu\"]\n",
    "stations_s = [\"Erlin\",\"Xinying\",\"Xiaogang\",\"Meinong\"]\n",
    "stations_e = [\"Yilan\",\"Dongshan\",\"Hualien\",\"Taitung\"]\n",
    "stations_w = [\"Hsinchu\",\"Erlin\",\"Xinying\",\"Xiaogang\"]\n",
    "station_Eng = stations_n+stations_s+stations_e+stations_w"
   ]
  },
  {
   "cell_type": "code",
   "execution_count": 7,
   "metadata": {},
   "outputs": [],
   "source": [
    "location = [[25.0261,121.5229],[24.9732,121.4441],[25.0015,121.2971],[24.7907,120.9578],\n",
    "            [23.9363,120.4068],[23.3161,120.2994],[22.5489,120.3567],[22.8871,120.5620],\n",
    "            [24.7509,121.7588],[24.6129,121.7534],[23.9909,121.6031],[22.7562,121.1120]]"
   ]
  },
  {
   "cell_type": "code",
   "execution_count": 8,
   "metadata": {},
   "outputs": [
    {
     "data": {
      "text/html": [
       "<div style=\"width:100%;\"><div style=\"position:relative;width:100%;height:0;padding-bottom:60%;\"><iframe src=\"data:text/html;charset=utf-8;base64,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\" style=\"position:absolute;width:100%;height:100%;left:0;top:0;border:none !important;\" allowfullscreen webkitallowfullscreen mozallowfullscreen></iframe></div></div>"
      ],
      "text/plain": [
       "<folium.folium.Map at 0x7fda4a44d710>"
      ]
     },
     "metadata": {},
     "output_type": "display_data"
    }
   ],
   "source": [
    "TWN_COORDINATES = (23.5832, 120.5825)\n",
    " \n",
    "# for speed purposes\n",
    "MAX_RECORDS = 1000\n",
    "\n",
    "# create empty map \n",
    "Twmap = folium.Map(location=TWN_COORDINATES, tiles='Stamen Terrain', zoom_start=7)\n",
    "\n",
    "C = location\n",
    "for i in range(len(C)):\n",
    "    text = station_Eng[i]\n",
    "    folium.Circle(C[i], 30, fill=True).add_child(folium.Popup(station_Eng[i])).add_to(Twmap)\n",
    "    folium.Marker(\n",
    "    [C[i][0], C[i][1]],\n",
    "    icon=DivIcon(\n",
    "        icon_size=(150,36),\n",
    "        icon_anchor=(0,0),\n",
    "        html='<div style=\"font-size: 12pt;color:blue\"><strong>%s<strong></div>' % text,\n",
    "        )\n",
    "    ).add_to(Twmap)\n",
    "    \n",
    "\n",
    "Twmap.save('Twmap.html') \n",
    "\n",
    "display(Twmap)"
   ]
  },
  {
   "cell_type": "code",
   "execution_count": 9,
   "metadata": {},
   "outputs": [],
   "source": [
    "# import the pollutant data"
   ]
  },
  {
   "cell_type": "code",
   "execution_count": 10,
   "metadata": {},
   "outputs": [],
   "source": [
    "TW_n = np.zeros((144, 7, len(stations_n)))\n",
    "TW_s = np.zeros((144, 7, len(stations_s)))\n",
    "TW_e = np.zeros((144, 7, len(stations_e)))\n",
    "TW = np.zeros((144, 7, len(stations_n+stations_s+stations_e)))\n",
    "\n",
    "for i,s in enumerate(stations_n):\n",
    "    filename = \"TW_env/\"+s+\"_2005_2017_adj.csv\"\n",
    "    data = pd.read_csv(filename, index_col=0)\n",
    "    TW_n[:,:,i] = data.iloc[:,2:].values\n",
    "\n",
    "for i,s in enumerate(stations_s):\n",
    "    filename = \"TW_env/\"+s+\"_2005_2017_adj.csv\"\n",
    "    data = pd.read_csv(filename, index_col=0)\n",
    "    TW_s[:,:,i] = data.iloc[:,2:].values\n",
    "\n",
    "for i,s in enumerate(stations_e):\n",
    "    filename = \"TW_env/\"+s+\"_2005_2017_adj.csv\"\n",
    "    data = pd.read_csv(filename, index_col=0)\n",
    "    TW_e[:,:,i] = data.iloc[:,2:].values\n",
    "    \n",
    "for i,s in enumerate(stations_n+stations_s+stations_e):\n",
    "    filename = \"TW_env/\"+s+\"_2005_2017_adj.csv\"\n",
    "    data = pd.read_csv(filename, index_col=0)\n",
    "    TW[:,:,i] = data.iloc[:,2:].values\n",
    "\n",
    "pollutant = list(data.columns[2:])"
   ]
  },
  {
   "cell_type": "code",
   "execution_count": 11,
   "metadata": {},
   "outputs": [],
   "source": [
    "def split_ws(X):\n",
    "    (T, P, S)= X.shape\n",
    "    W = np.zeros((int(T/2), P, S))\n",
    "    S = np.zeros((int(T/2), P, S))\n",
    "    w = 0\n",
    "    s = 0\n",
    "    for t in range(T):\n",
    "        if (t%12<3)|(t%12>8):\n",
    "            W[w,:,:] = X[t, :,:]\n",
    "            w += 1\n",
    "        else:\n",
    "            S[s,:,:] = X[t, :,:]\n",
    "            s += 1\n",
    "    return W, S"
   ]
  },
  {
   "cell_type": "code",
   "execution_count": 12,
   "metadata": {},
   "outputs": [],
   "source": [
    "T_W, T_S = split_ws(TW)"
   ]
  },
  {
   "cell_type": "code",
   "execution_count": 13,
   "metadata": {},
   "outputs": [
    {
     "data": {
      "text/plain": [
       "(144, 7, 12)"
      ]
     },
     "execution_count": 13,
     "metadata": {},
     "output_type": "execute_result"
    }
   ],
   "source": [
    "TW.shape"
   ]
  },
  {
   "cell_type": "code",
   "execution_count": 14,
   "metadata": {},
   "outputs": [],
   "source": [
    "# TCCA"
   ]
  },
  {
   "cell_type": "code",
   "execution_count": 15,
   "metadata": {},
   "outputs": [],
   "source": [
    "# N vs S"
   ]
  },
  {
   "cell_type": "code",
   "execution_count": 16,
   "metadata": {},
   "outputs": [
    {
     "name": "stdout",
     "output_type": "stream",
     "text": [
      "0.8876965114457547\n"
     ]
    }
   ],
   "source": [
    "inputX, inputY = TW_n, TW_s\n",
    "inputX, inputY = list(map(lambda x: x-x.mean(axis=0),(inputX, inputY)))\n",
    "(loading, corr, error) = twoDcca(inputX, inputY, x_regular=0.01, y_regular=0.01, iter_max=30)\n",
    "for i in range(20):\n",
    "    (loading_tmp, corr_tmp, error_tmp) = twoDcca(inputX, inputY, x_regular=0.01, y_regular=0.01, iter_max=30)\n",
    "    if corr[-1]<corr_tmp[-1]:\n",
    "        corr = corr_tmp\n",
    "        loading = loading_tmp\n",
    "print(corr[-1])\n",
    "corr_n_s = corr[-1]"
   ]
  },
  {
   "cell_type": "code",
   "execution_count": 17,
   "metadata": {},
   "outputs": [
    {
     "name": "stdout",
     "output_type": "stream",
     "text": [
      "            Guting Tucheng Taoyuan Hsinchu  Erlin Xinying Xiaogang Meinong\n",
      "coefficient  0.051  -0.144  -0.031  -0.988  0.776   0.585   -0.125   0.199\n",
      "\n",
      "\n",
      "\\begin{tabular}{lllllllll}\n",
      "\\toprule\n",
      "{} & Guting & Tucheng & Taoyuan & Hsinchu &  Erlin & Xinying & Xiaogang & Meinong \\\\\n",
      "\\midrule\n",
      "coefficient &  0.051 &  -0.144 &  -0.031 &  -0.988 &  0.776 &   0.585 &   -0.125 &   0.199 \\\\\n",
      "\\bottomrule\n",
      "\\end{tabular}\n",
      "\n"
     ]
    }
   ],
   "source": [
    "data = np.r_[loading[1],loading[3]].flatten()\n",
    "df = pd.DataFrame(data,columns=['coefficient'],index=stations_n+stations_s,dtype=float)\n",
    "df = df.replace('\\$\\s+','', regex=True).astype(float).applymap('{:,.3f}'.format)\n",
    "print(df.T)\n",
    "print('\\n')\n",
    "print(df.T.to_latex())"
   ]
  },
  {
   "cell_type": "code",
   "execution_count": 18,
   "metadata": {},
   "outputs": [
    {
     "name": "stdout",
     "output_type": "stream",
     "text": [
      "      SO2      CO      O3    PM10     NOx      NO     NO2\n",
      "N  -0.001  -0.477   0.322   0.132   0.418  -0.604  -0.333\n",
      "S  -0.572   0.249  -0.415  -0.067  -0.200   0.618  -0.110\n",
      "\n",
      "\n",
      "\\begin{tabular}{llllllll}\n",
      "\\toprule\n",
      "{} &     SO2 &      CO &      O3 &    PM10 &     NOx &      NO &     NO2 \\\\\n",
      "\\midrule\n",
      "N &  -0.001 &  -0.477 &   0.322 &   0.132 &   0.418 &  -0.604 &  -0.333 \\\\\n",
      "S &  -0.572 &   0.249 &  -0.415 &  -0.067 &  -0.200 &   0.618 &  -0.110 \\\\\n",
      "\\bottomrule\n",
      "\\end{tabular}\n",
      "\n"
     ]
    }
   ],
   "source": [
    "data = {'N':loading[0].flatten(),'S':loading[2].flatten()}\n",
    "df = pd.DataFrame(data,index=pollutant,dtype=float)\n",
    "df = df.replace('\\$\\s+','', regex=True).astype(float).applymap('{:,.3f}'.format)\n",
    "print(df.T)\n",
    "print('\\n')\n",
    "print(df.T.to_latex())"
   ]
  },
  {
   "cell_type": "code",
   "execution_count": 19,
   "metadata": {},
   "outputs": [],
   "source": [
    "# N vs E"
   ]
  },
  {
   "cell_type": "code",
   "execution_count": 20,
   "metadata": {},
   "outputs": [
    {
     "name": "stdout",
     "output_type": "stream",
     "text": [
      "0.90444844046911\n"
     ]
    }
   ],
   "source": [
    "inputX, inputY = TW_n, TW_e\n",
    "inputX, inputY = list(map(lambda x: x-x.mean(axis=0),(inputX, inputY)))\n",
    "(loading, corr, error) = twoDcca(inputX, inputY, x_regular=0.01, y_regular=0.01, iter_max=30)\n",
    "for i in range(20):\n",
    "    (loading_tmp, corr_tmp, error_tmp) = twoDcca(inputX, inputY, x_regular=0.01, y_regular=0.01, iter_max=30)\n",
    "    if corr[-1]<corr_tmp[-1]:\n",
    "        corr = corr_tmp\n",
    "        loading = loading_tmp\n",
    "print(corr[-1])\n",
    "corr_n_e = corr[-1]"
   ]
  },
  {
   "cell_type": "code",
   "execution_count": 21,
   "metadata": {},
   "outputs": [
    {
     "name": "stdout",
     "output_type": "stream",
     "text": [
      "            Guting Tucheng Taoyuan Hsinchu  Yilan Dongshan Hualien Taitung\n",
      "coefficient  0.627   0.671   0.215   0.332  0.895   -0.051   0.441   0.045\n",
      "\n",
      "\n",
      "\\begin{tabular}{lllllllll}\n",
      "\\toprule\n",
      "{} & Guting & Tucheng & Taoyuan & Hsinchu &  Yilan & Dongshan & Hualien & Taitung \\\\\n",
      "\\midrule\n",
      "coefficient &  0.627 &   0.671 &   0.215 &   0.332 &  0.895 &   -0.051 &   0.441 &   0.045 \\\\\n",
      "\\bottomrule\n",
      "\\end{tabular}\n",
      "\n"
     ]
    }
   ],
   "source": [
    "data = np.r_[loading[1],loading[3]].flatten()\n",
    "df = pd.DataFrame(data,columns=['coefficient'],index=stations_n+stations_e,dtype=float)\n",
    "df = df.replace('\\$\\s+','', regex=True).astype(float).applymap('{:,.3f}'.format)\n",
    "print(df.T)\n",
    "print('\\n')\n",
    "print(df.T.to_latex())"
   ]
  },
  {
   "cell_type": "code",
   "execution_count": 22,
   "metadata": {},
   "outputs": [
    {
     "name": "stdout",
     "output_type": "stream",
     "text": [
      "     SO2      CO      O3    PM10     NOx      NO    NO2\n",
      "N  0.780  -0.566  -0.170  -0.166   0.050  -0.111  0.015\n",
      "E  0.027   0.565  -0.402  -0.409  -0.212  -0.010  0.553\n",
      "\n",
      "\n",
      "\\begin{tabular}{llllllll}\n",
      "\\toprule\n",
      "{} &    SO2 &      CO &      O3 &    PM10 &     NOx &      NO &    NO2 \\\\\n",
      "\\midrule\n",
      "N &  0.780 &  -0.566 &  -0.170 &  -0.166 &   0.050 &  -0.111 &  0.015 \\\\\n",
      "E &  0.027 &   0.565 &  -0.402 &  -0.409 &  -0.212 &  -0.010 &  0.553 \\\\\n",
      "\\bottomrule\n",
      "\\end{tabular}\n",
      "\n"
     ]
    }
   ],
   "source": [
    "data = {'N':loading[0].flatten(),'E':loading[2].flatten()}\n",
    "df = pd.DataFrame(data,index=pollutant,dtype=float)\n",
    "df = df.replace('\\$\\s+','', regex=True).astype(float).applymap('{:,.3f}'.format)\n",
    "print(df.T)\n",
    "print('\\n')\n",
    "print(df.T.to_latex())"
   ]
  },
  {
   "cell_type": "code",
   "execution_count": 23,
   "metadata": {},
   "outputs": [],
   "source": [
    "# S vs E"
   ]
  },
  {
   "cell_type": "code",
   "execution_count": 24,
   "metadata": {},
   "outputs": [
    {
     "name": "stdout",
     "output_type": "stream",
     "text": [
      "0.8166508322921585\n"
     ]
    }
   ],
   "source": [
    "inputX, inputY = TW_s, TW_e\n",
    "inputX, inputY = list(map(lambda x: x-x.mean(axis=0),(inputX, inputY)))\n",
    "(loading, corr, error) = twoDcca(inputX, inputY, x_regular=0.01, y_regular=0.01, iter_max=30)\n",
    "for i in range(20):\n",
    "    (loading_tmp, corr_tmp, error_tmp) = twoDcca(inputX, inputY, x_regular=0.01, y_regular=0.01, iter_max=30)\n",
    "    if corr[-1]<corr_tmp[-1]:\n",
    "        corr = corr_tmp\n",
    "        loading = loading_tmp\n",
    "print(corr[-1])\n",
    "corr_s_e = corr[-1]"
   ]
  },
  {
   "cell_type": "code",
   "execution_count": 25,
   "metadata": {},
   "outputs": [
    {
     "name": "stdout",
     "output_type": "stream",
     "text": [
      "              Erlin Xinying Xiaogang Meinong   Yilan Dongshan Hualien Taitung\n",
      "coefficient  -0.625  -0.147   -0.591  -0.489  -0.508    0.144  -0.302  -0.793\n",
      "\n",
      "\n",
      "\\begin{tabular}{lllllllll}\n",
      "\\toprule\n",
      "{} &   Erlin & Xinying & Xiaogang & Meinong &   Yilan & Dongshan & Hualien & Taitung \\\\\n",
      "\\midrule\n",
      "coefficient &  -0.625 &  -0.147 &   -0.591 &  -0.489 &  -0.508 &    0.144 &  -0.302 &  -0.793 \\\\\n",
      "\\bottomrule\n",
      "\\end{tabular}\n",
      "\n"
     ]
    }
   ],
   "source": [
    "data = np.r_[loading[1],loading[3]].flatten()\n",
    "df = pd.DataFrame(data,columns=['coefficient'],index=stations_s+stations_e,dtype=float)\n",
    "df = df.replace('\\$\\s+','', regex=True).astype(float).applymap('{:,.3f}'.format)\n",
    "print(df.T)\n",
    "print('\\n')\n",
    "print(df.T.to_latex())"
   ]
  },
  {
   "cell_type": "code",
   "execution_count": 26,
   "metadata": {},
   "outputs": [
    {
     "name": "stdout",
     "output_type": "stream",
     "text": [
      "     SO2     CO      O3    PM10     NOx     NO    NO2\n",
      "S  0.272  0.702  -0.145  -0.022  -0.365  0.398  0.347\n",
      "E  0.186  0.297  -0.433  -0.080  -0.218  0.030  0.797\n",
      "\n",
      "\n",
      "\\begin{tabular}{llllllll}\n",
      "\\toprule\n",
      "{} &    SO2 &     CO &      O3 &    PM10 &     NOx &     NO &    NO2 \\\\\n",
      "\\midrule\n",
      "S &  0.272 &  0.702 &  -0.145 &  -0.022 &  -0.365 &  0.398 &  0.347 \\\\\n",
      "E &  0.186 &  0.297 &  -0.433 &  -0.080 &  -0.218 &  0.030 &  0.797 \\\\\n",
      "\\bottomrule\n",
      "\\end{tabular}\n",
      "\n"
     ]
    }
   ],
   "source": [
    "data = {'S':loading[0].flatten(),'E':loading[2].flatten()}\n",
    "df = pd.DataFrame(data,index=pollutant,dtype=float)\n",
    "df = df.replace('\\$\\s+','', regex=True).astype(float).applymap('{:,.3f}'.format)\n",
    "print(df.T)\n",
    "print('\\n')\n",
    "print(df.T.to_latex())"
   ]
  },
  {
   "cell_type": "code",
   "execution_count": 27,
   "metadata": {},
   "outputs": [
    {
     "name": "stdout",
     "output_type": "stream",
     "text": [
      "       Correlation\n",
      "N vs S       0.888\n",
      "S vs E       0.817\n",
      "N vs E       0.904\n",
      "\n",
      "\n",
      "\\begin{tabular}{llll}\n",
      "\\toprule\n",
      "{} & N vs S & S vs E & N vs E \\\\\n",
      "\\midrule\n",
      "Correlation &  0.888 &  0.817 &  0.904 \\\\\n",
      "\\bottomrule\n",
      "\\end{tabular}\n",
      "\n"
     ]
    }
   ],
   "source": [
    "data = [corr_n_s, corr_s_e, corr_n_e]\n",
    "df = pd.DataFrame(data,columns=['Correlation'],index=['N vs S','S vs E','N vs E'],dtype=float)\n",
    "df = df.replace('\\$\\s+','', regex=True).astype(float).applymap('{:,.3f}'.format)\n",
    "print(df)\n",
    "print('\\n')\n",
    "print(df.T.to_latex())"
   ]
  },
  {
   "cell_type": "code",
   "execution_count": 28,
   "metadata": {},
   "outputs": [],
   "source": [
    "# split data by summer and winter"
   ]
  },
  {
   "cell_type": "code",
   "execution_count": 29,
   "metadata": {},
   "outputs": [],
   "source": [
    "N_W, N_S = split_ws(TW_n)\n",
    "S_W, S_S = split_ws(TW_s)\n",
    "E_W, E_S = split_ws(TW_e)"
   ]
  },
  {
   "cell_type": "code",
   "execution_count": 30,
   "metadata": {},
   "outputs": [],
   "source": [
    "# N vs S"
   ]
  },
  {
   "cell_type": "code",
   "execution_count": 31,
   "metadata": {},
   "outputs": [
    {
     "name": "stdout",
     "output_type": "stream",
     "text": [
      "0.9402670149043211\n"
     ]
    }
   ],
   "source": [
    "inputX, inputY = N_W, S_W\n",
    "inputX, inputY = list(map(lambda x: x-x.mean(axis=0),(inputX, inputY)))\n",
    "(loading, corr, error) = twoDcca(inputX, inputY, x_regular=0.01, y_regular=0.01, iter_max=40)\n",
    "for i in range(30):\n",
    "    (loading_tmp, corr_tmp, error_tmp) = twoDcca(inputX, inputY, x_regular=0.01, y_regular=0.01, iter_max=100)\n",
    "    if corr[-1]<corr_tmp[-1]:\n",
    "        corr = corr_tmp\n",
    "        loading = loading_tmp\n",
    "print(corr[-1])\n",
    "loading_ww = loading\n",
    "corr_n_s_ww = corr[-1]"
   ]
  },
  {
   "cell_type": "code",
   "execution_count": 32,
   "metadata": {},
   "outputs": [
    {
     "name": "stdout",
     "output_type": "stream",
     "text": [
      "0.8891442572585119\n"
     ]
    }
   ],
   "source": [
    "inputX, inputY = N_S, S_S\n",
    "inputX, inputY = list(map(lambda x: x-x.mean(axis=0),(inputX, inputY)))\n",
    "(loading, corr, error) = twoDcca(inputX, inputY, x_regular=0.01, y_regular=0.01, iter_max=40)\n",
    "for i in range(30):\n",
    "    (loading_tmp, corr_tmp, error_tmp) = twoDcca(inputX, inputY, x_regular=0.01, y_regular=0.01, iter_max=40)\n",
    "    if corr[-1]<corr_tmp[-1]:\n",
    "        corr = corr_tmp\n",
    "        loading = loading_tmp\n",
    "print(corr[-1])\n",
    "loading_ss = loading\n",
    "corr_n_s_ss = corr[-1]"
   ]
  },
  {
   "cell_type": "code",
   "execution_count": 33,
   "metadata": {},
   "outputs": [
    {
     "name": "stdout",
     "output_type": "stream",
     "text": [
      "        Guting Tucheng Taoyuan Hsinchu  Erlin Xinying Xiaogang Meinong\n",
      "Winter  -0.423  -0.061  -0.078  -0.901  0.925   0.345   -0.161   0.024\n",
      "Summer   0.400  -0.277  -0.188  -0.853  0.833   0.436    0.205   0.270\n",
      "\n",
      "\n",
      "\\begin{tabular}{lllllllll}\n",
      "\\toprule\n",
      "{} &  Guting & Tucheng & Taoyuan & Hsinchu &  Erlin & Xinying & Xiaogang & Meinong \\\\\n",
      "\\midrule\n",
      "Winter &  -0.423 &  -0.061 &  -0.078 &  -0.901 &  0.925 &   0.345 &   -0.161 &   0.024 \\\\\n",
      "Summer &   0.400 &  -0.277 &  -0.188 &  -0.853 &  0.833 &   0.436 &    0.205 &   0.270 \\\\\n",
      "\\bottomrule\n",
      "\\end{tabular}\n",
      "\n"
     ]
    }
   ],
   "source": [
    "data = {\"Winter\":np.r_[loading_ww[1],loading_ww[3]].flatten(),\"Summer\":np.r_[loading_ss[1],loading_ss[3]].flatten()}\n",
    "df = pd.DataFrame(data,index=stations_n+stations_s,dtype=float)\n",
    "df = df.replace('\\$\\s+','', regex=True).astype(float).applymap('{:,.3f}'.format)\n",
    "print(df.T)\n",
    "print('\\n')\n",
    "print(df.T.to_latex())"
   ]
  },
  {
   "cell_type": "code",
   "execution_count": 34,
   "metadata": {},
   "outputs": [
    {
     "name": "stdout",
     "output_type": "stream",
     "text": [
      "              SO2      CO      O3    PM10     NOx      NO     NO2\n",
      "N(Winter)  -0.122  -0.672   0.176   0.084  -0.298   0.083   0.633\n",
      "S(Winter)  -0.229  -0.805  -0.357  -0.071  -0.291   0.242  -0.153\n",
      "N(Summer)  -0.541  -0.345   0.533   0.060   0.262  -0.478   0.068\n",
      "S(Summer)  -0.001   0.135  -0.360   0.003   0.232   0.740  -0.500\n",
      "\n",
      "\n",
      "\\begin{tabular}{llllllll}\n",
      "\\toprule\n",
      "{} &     SO2 &      CO &      O3 &    PM10 &     NOx &      NO &     NO2 \\\\\n",
      "\\midrule\n",
      "N(Winter) &  -0.122 &  -0.672 &   0.176 &   0.084 &  -0.298 &   0.083 &   0.633 \\\\\n",
      "S(Winter) &  -0.229 &  -0.805 &  -0.357 &  -0.071 &  -0.291 &   0.242 &  -0.153 \\\\\n",
      "N(Summer) &  -0.541 &  -0.345 &   0.533 &   0.060 &   0.262 &  -0.478 &   0.068 \\\\\n",
      "S(Summer) &  -0.001 &   0.135 &  -0.360 &   0.003 &   0.232 &   0.740 &  -0.500 \\\\\n",
      "\\bottomrule\n",
      "\\end{tabular}\n",
      "\n"
     ]
    }
   ],
   "source": [
    "data = {'N(Winter)':loading_ww[0].flatten(),'S(Winter)':loading_ww[2].flatten(),'N(Summer)':loading_ss[0].flatten(),'S(Summer)':loading_ss[2].flatten()}\n",
    "df = pd.DataFrame(data,index=pollutant,dtype=float)\n",
    "df = df.replace('\\$\\s+','', regex=True).astype(float).applymap('{:,.3f}'.format)\n",
    "print(df.T)\n",
    "print('\\n')\n",
    "print(df.T.to_latex())"
   ]
  },
  {
   "cell_type": "code",
   "execution_count": 35,
   "metadata": {},
   "outputs": [],
   "source": [
    "# N vs E"
   ]
  },
  {
   "cell_type": "code",
   "execution_count": 36,
   "metadata": {},
   "outputs": [
    {
     "name": "stdout",
     "output_type": "stream",
     "text": [
      "0.9302607836737954\n"
     ]
    }
   ],
   "source": [
    "inputX, inputY = N_W, E_W\n",
    "inputX, inputY = list(map(lambda x: x-x.mean(axis=0),(inputX, inputY)))\n",
    "(loading, corr, error) = twoDcca(inputX, inputY, x_regular=0.01, y_regular=0.01, iter_max=30)\n",
    "for i in range(20):\n",
    "    (loading_tmp, corr_tmp, error_tmp) = twoDcca(inputX, inputY, x_regular=0.01, y_regular=0.01, iter_max=30)\n",
    "    if corr[-1]<corr_tmp[-1]:\n",
    "        corr = corr_tmp\n",
    "        loading = loading_tmp\n",
    "print(corr[-1])\n",
    "loading_ww = loading\n",
    "corr_ww = corr[-1]\n",
    "corr_n_e_ww = corr[-1]"
   ]
  },
  {
   "cell_type": "code",
   "execution_count": 37,
   "metadata": {},
   "outputs": [
    {
     "name": "stdout",
     "output_type": "stream",
     "text": [
      "0.9143101966885496\n"
     ]
    }
   ],
   "source": [
    "inputX, inputY = N_S, E_S\n",
    "inputX, inputY = list(map(lambda x: x-x.mean(axis=0),(inputX, inputY)))\n",
    "(loading, corr, error) = twoDcca(inputX, inputY, x_regular=0.01, y_regular=0.01, iter_max=30)\n",
    "for i in range(20):\n",
    "    (loading_tmp, corr_tmp, error_tmp) = twoDcca(inputX, inputY, x_regular=0.01, y_regular=0.01, iter_max=30)\n",
    "    if corr[-1]<corr_tmp[-1]:\n",
    "        corr = corr_tmp\n",
    "        loading = loading_tmp\n",
    "print(corr[-1])\n",
    "loading_ss = loading\n",
    "corr_ss = corr[-1]\n",
    "corr_n_e_ss = corr[-1]"
   ]
  },
  {
   "cell_type": "code",
   "execution_count": 38,
   "metadata": {},
   "outputs": [
    {
     "name": "stdout",
     "output_type": "stream",
     "text": [
      "        Guting Tucheng Taoyuan Hsinchu   Yilan Dongshan Hualien Taitung\n",
      "Winter  -0.600  -0.721  -0.341  -0.060  -0.818   -0.276  -0.501  -0.065\n",
      "Summer  -0.419  -0.225  -0.783  -0.401  -0.843   -0.195  -0.464  -0.188\n",
      "\n",
      "\n",
      "\\begin{tabular}{lllllllll}\n",
      "\\toprule\n",
      "{} &  Guting & Tucheng & Taoyuan & Hsinchu &   Yilan & Dongshan & Hualien & Taitung \\\\\n",
      "\\midrule\n",
      "Winter &  -0.600 &  -0.721 &  -0.341 &  -0.060 &  -0.818 &   -0.276 &  -0.501 &  -0.065 \\\\\n",
      "Summer &  -0.419 &  -0.225 &  -0.783 &  -0.401 &  -0.843 &   -0.195 &  -0.464 &  -0.188 \\\\\n",
      "\\bottomrule\n",
      "\\end{tabular}\n",
      "\n"
     ]
    }
   ],
   "source": [
    "data = {\"Winter\":np.r_[loading_ww[1],loading_ww[3]].flatten(),\"Summer\":np.r_[loading_ss[1],loading_ss[3]].flatten()}\n",
    "df = pd.DataFrame(data,index=stations_n+stations_e,dtype=float)\n",
    "df = df.replace('\\$\\s+','', regex=True).astype(float).applymap('{:,.3f}'.format)\n",
    "print(df.T)\n",
    "print('\\n')\n",
    "print(df.T.to_latex())"
   ]
  },
  {
   "cell_type": "code",
   "execution_count": 39,
   "metadata": {},
   "outputs": [
    {
     "name": "stdout",
     "output_type": "stream",
     "text": [
      "              SO2      CO      O3    PM10     NOx      NO     NO2\n",
      "N(Winter)  -0.475  -0.331   0.247   0.077  -0.397   0.431   0.505\n",
      "E(Winter)  -0.563  -0.231   0.332   0.149   0.415  -0.481  -0.305\n",
      "N(Summer)   0.111  -0.113  -0.074  -0.188  -0.450   0.283   0.807\n",
      "E(Summer)  -0.273   0.371  -0.127  -0.209  -0.099  -0.472   0.704\n",
      "\n",
      "\n",
      "\\begin{tabular}{llllllll}\n",
      "\\toprule\n",
      "{} &     SO2 &      CO &      O3 &    PM10 &     NOx &      NO &     NO2 \\\\\n",
      "\\midrule\n",
      "N(Winter) &  -0.475 &  -0.331 &   0.247 &   0.077 &  -0.397 &   0.431 &   0.505 \\\\\n",
      "E(Winter) &  -0.563 &  -0.231 &   0.332 &   0.149 &   0.415 &  -0.481 &  -0.305 \\\\\n",
      "N(Summer) &   0.111 &  -0.113 &  -0.074 &  -0.188 &  -0.450 &   0.283 &   0.807 \\\\\n",
      "E(Summer) &  -0.273 &   0.371 &  -0.127 &  -0.209 &  -0.099 &  -0.472 &   0.704 \\\\\n",
      "\\bottomrule\n",
      "\\end{tabular}\n",
      "\n"
     ]
    }
   ],
   "source": [
    "data = {'N(Winter)':loading_ww[0].flatten(),'E(Winter)':loading_ww[2].flatten(),'N(Summer)':loading_ss[0].flatten(),'E(Summer)':loading_ss[2].flatten()}\n",
    "df = pd.DataFrame(data,index=pollutant,dtype=float)\n",
    "df = df.replace('\\$\\s+','', regex=True).astype(float).applymap('{:,.3f}'.format)\n",
    "print(df.T)\n",
    "print('\\n')\n",
    "print(df.T.to_latex())"
   ]
  },
  {
   "cell_type": "code",
   "execution_count": 40,
   "metadata": {},
   "outputs": [],
   "source": [
    "# S vs E"
   ]
  },
  {
   "cell_type": "code",
   "execution_count": 41,
   "metadata": {},
   "outputs": [
    {
     "name": "stdout",
     "output_type": "stream",
     "text": [
      "0.9037729489953221\n"
     ]
    }
   ],
   "source": [
    "inputX, inputY = S_W, E_W\n",
    "inputX, inputY = list(map(lambda x: x-x.mean(axis=0),(inputX, inputY)))\n",
    "(loading, corr, error) = twoDcca(inputX, inputY, x_regular=0.01, y_regular=0.01, iter_max=30)\n",
    "for i in range(20):\n",
    "    (loading_tmp, corr_tmp, error_tmp) = twoDcca(inputX, inputY, x_regular=0.01, y_regular=0.01, iter_max=30)\n",
    "    if corr[-1]<corr_tmp[-1]:\n",
    "        corr = corr_tmp\n",
    "        loading = loading_tmp\n",
    "print(corr[-1])\n",
    "loading_ww = loading\n",
    "corr_s_e_ww = corr[-1]"
   ]
  },
  {
   "cell_type": "code",
   "execution_count": 42,
   "metadata": {},
   "outputs": [
    {
     "name": "stdout",
     "output_type": "stream",
     "text": [
      "0.8210217285942146\n"
     ]
    }
   ],
   "source": [
    "inputX, inputY = S_S, E_S\n",
    "inputX, inputY = list(map(lambda x: x-x.mean(axis=0),(inputX, inputY)))\n",
    "(loading, corr, error) = twoDcca(inputX, inputY, x_regular=0.01, y_regular=0.01, iter_max=30)\n",
    "for i in range(20):\n",
    "    (loading_tmp, corr_tmp, error_tmp) = twoDcca(inputX, inputY, x_regular=0.01, y_regular=0.01, iter_max=30)\n",
    "    if corr[-1]<corr_tmp[-1]:\n",
    "        corr = corr_tmp\n",
    "        loading = loading_tmp\n",
    "print(corr[-1])\n",
    "loading_ss = loading\n",
    "corr_s_e_ss = corr[-1]"
   ]
  },
  {
   "cell_type": "code",
   "execution_count": 43,
   "metadata": {},
   "outputs": [
    {
     "name": "stdout",
     "output_type": "stream",
     "text": [
      "         Erlin Xinying Xiaogang Meinong   Yilan Dongshan Hualien Taitung\n",
      "Winter  -0.963   0.058   -0.113  -0.240  -0.462   -0.156  -0.751  -0.444\n",
      "Summer   0.367   0.790    0.323   0.370  -0.736    0.357  -0.329  -0.472\n",
      "\n",
      "\n",
      "\\begin{tabular}{lllllllll}\n",
      "\\toprule\n",
      "{} &   Erlin & Xinying & Xiaogang & Meinong &   Yilan & Dongshan & Hualien & Taitung \\\\\n",
      "\\midrule\n",
      "Winter &  -0.963 &   0.058 &   -0.113 &  -0.240 &  -0.462 &   -0.156 &  -0.751 &  -0.444 \\\\\n",
      "Summer &   0.367 &   0.790 &    0.323 &   0.370 &  -0.736 &    0.357 &  -0.329 &  -0.472 \\\\\n",
      "\\bottomrule\n",
      "\\end{tabular}\n",
      "\n"
     ]
    }
   ],
   "source": [
    "data = {\"Winter\":np.r_[loading_ww[1],loading_ww[3]].flatten(),\"Summer\":np.r_[loading_ss[1],loading_ss[3]].flatten()}\n",
    "df = pd.DataFrame(data,index=stations_s+stations_e,dtype=float)\n",
    "df = df.replace('\\$\\s+','', regex=True).astype(float).applymap('{:,.3f}'.format)\n",
    "print(df.T)\n",
    "print('\\n')\n",
    "print(df.T.to_latex())"
   ]
  },
  {
   "cell_type": "code",
   "execution_count": 44,
   "metadata": {},
   "outputs": [
    {
     "name": "stdout",
     "output_type": "stream",
     "text": [
      "              SO2      CO      O3    PM10     NOx      NO     NO2\n",
      "S(Winter)  -0.395  -0.024   0.264   0.019   0.632  -0.392  -0.470\n",
      "E(Winter)  -0.297  -0.525   0.167   0.076   0.286  -0.712  -0.117\n",
      "S(Summer)  -0.603  -0.115   0.184   0.008   0.455  -0.298  -0.542\n",
      "E(Summer)   0.094  -0.023  -0.272  -0.046  -0.267  -0.610   0.686\n",
      "\n",
      "\n",
      "\\begin{tabular}{llllllll}\n",
      "\\toprule\n",
      "{} &     SO2 &      CO &      O3 &    PM10 &     NOx &      NO &     NO2 \\\\\n",
      "\\midrule\n",
      "S(Winter) &  -0.395 &  -0.024 &   0.264 &   0.019 &   0.632 &  -0.392 &  -0.470 \\\\\n",
      "E(Winter) &  -0.297 &  -0.525 &   0.167 &   0.076 &   0.286 &  -0.712 &  -0.117 \\\\\n",
      "S(Summer) &  -0.603 &  -0.115 &   0.184 &   0.008 &   0.455 &  -0.298 &  -0.542 \\\\\n",
      "E(Summer) &   0.094 &  -0.023 &  -0.272 &  -0.046 &  -0.267 &  -0.610 &   0.686 \\\\\n",
      "\\bottomrule\n",
      "\\end{tabular}\n",
      "\n"
     ]
    }
   ],
   "source": [
    "data = {'S(Winter)':loading_ww[0].flatten(),'E(Winter)':loading_ww[2].flatten(),'S(Summer)':loading_ss[0].flatten(),'E(Summer)':loading_ss[2].flatten()}\n",
    "df = pd.DataFrame(data,index=pollutant,dtype=float)\n",
    "df = df.replace('\\$\\s+','', regex=True).astype(float).applymap('{:,.3f}'.format)\n",
    "print(df.T)\n",
    "print('\\n')\n",
    "print(df.T.to_latex())"
   ]
  },
  {
   "cell_type": "code",
   "execution_count": 45,
   "metadata": {},
   "outputs": [],
   "source": [
    "# summary"
   ]
  },
  {
   "cell_type": "code",
   "execution_count": 46,
   "metadata": {},
   "outputs": [
    {
     "name": "stdout",
     "output_type": "stream",
     "text": [
      "       N vs S S vs E N vs E\n",
      "Winter  0.940  0.904  0.930\n",
      "Summer  0.889  0.821  0.914\n",
      "\n",
      "\n",
      "\\begin{tabular}{llll}\n",
      "\\toprule\n",
      "{} & N vs S & S vs E & N vs E \\\\\n",
      "\\midrule\n",
      "Winter &  0.940 &  0.904 &  0.930 \\\\\n",
      "Summer &  0.889 &  0.821 &  0.914 \\\\\n",
      "\\bottomrule\n",
      "\\end{tabular}\n",
      "\n"
     ]
    }
   ],
   "source": [
    "data = {'N vs S':[corr_n_s_ww, corr_n_s_ss], \"S vs E\":[corr_s_e_ww, corr_s_e_ss], \"N vs E\":[corr_n_e_ww, corr_n_e_ss]}\n",
    "df = pd.DataFrame(data,index=['Winter','Summer'],dtype=float)\n",
    "df = df.replace('\\$\\s+','', regex=True).astype(float).applymap('{:,.3f}'.format)\n",
    "print(df)\n",
    "print('\\n')\n",
    "print(df.to_latex())"
   ]
  }
 ],
 "metadata": {
  "kernelspec": {
   "display_name": "Python 3",
   "language": "python",
   "name": "python3"
  },
  "language_info": {
   "codemirror_mode": {
    "name": "ipython",
    "version": 3
   },
   "file_extension": ".py",
   "mimetype": "text/x-python",
   "name": "python",
   "nbconvert_exporter": "python",
   "pygments_lexer": "ipython3",
   "version": "3.7.3"
  }
 },
 "nbformat": 4,
 "nbformat_minor": 2
}
