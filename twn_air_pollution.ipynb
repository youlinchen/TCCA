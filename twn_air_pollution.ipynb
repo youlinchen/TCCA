{
 "cells": [
  {
   "cell_type": "markdown",
   "metadata": {},
   "source": [
    "#  Air Pollution Data in Taiwan"
   ]
  },
  {
   "cell_type": "code",
   "execution_count": 51,
   "metadata": {},
   "outputs": [],
   "source": [
    "import numpy as np\n",
    "import scipy.linalg as la\n",
    "import pandas as pd\n",
    "import matplotlib.pyplot as plt\n",
    "import seaborn as sns"
   ]
  },
  {
   "cell_type": "code",
   "execution_count": 52,
   "metadata": {},
   "outputs": [],
   "source": [
    "from util import *"
   ]
  },
  {
   "cell_type": "markdown",
   "metadata": {},
   "source": [
    "# import the station information"
   ]
  },
  {
   "cell_type": "code",
   "execution_count": 53,
   "metadata": {},
   "outputs": [],
   "source": [
    "station_chi = [\"古亭\",\"土城\",\"桃園\",\"新竹\",\n",
    "               \"二林\",\"新營\",\"小港\",\"美濃\",\n",
    "               \"宜蘭\",\"冬山\",\"花蓮\",\"臺東\"]"
   ]
  },
  {
   "cell_type": "code",
   "execution_count": 54,
   "metadata": {},
   "outputs": [],
   "source": [
    "stations_n = [\"Guting\",\"Tucheng\",\"Taoyuan\",\"Hsinchu\"]\n",
    "stations_s = [\"Erlin\",\"Xinying\",\"Xiaogang\",\"Meinong\"]\n",
    "stations_e = [\"Yilan\",\"Dongshan\",\"Hualien\",\"Taitung\"]\n",
    "stations_w = [\"Hsinchu\",\"Erlin\",\"Xinying\",\"Xiaogang\"]\n",
    "station_Eng = stations_n+stations_s+stations_e+stations_w"
   ]
  },
  {
   "cell_type": "code",
   "execution_count": 55,
   "metadata": {},
   "outputs": [],
   "source": [
    "location = [[25.0261,121.5229],[24.9732,121.4441],[25.0015,121.2971],[24.7907,120.9578],\n",
    "            [23.9363,120.4068],[23.3161,120.2994],[22.5489,120.3567],[22.8871,120.5620],\n",
    "            [24.7509,121.7588],[24.6129,121.7534],[23.9909,121.6031],[22.7562,121.1120]]"
   ]
  },
  {
   "cell_type": "code",
   "execution_count": 56,
   "metadata": {},
   "outputs": [],
   "source": [
    "TW_n = np.zeros((144, 7, len(stations_n)))\n",
    "TW_s = np.zeros((144, 7, len(stations_s)))\n",
    "TW_e = np.zeros((144, 7, len(stations_e)))\n",
    "TW = np.zeros((144, 7, len(stations_n+stations_s+stations_e)))"
   ]
  },
  {
   "cell_type": "markdown",
   "metadata": {},
   "source": [
    "# import the pollutant data"
   ]
  },
  {
   "cell_type": "code",
   "execution_count": 57,
   "metadata": {},
   "outputs": [],
   "source": [
    "TW_n = np.zeros((144, 7, len(stations_n)))\n",
    "TW_s = np.zeros((144, 7, len(stations_s)))\n",
    "TW_e = np.zeros((144, 7, len(stations_e)))\n",
    "TW = np.zeros((144, 7, len(stations_n+stations_s+stations_e)))\n",
    "\n",
    "for i,s in enumerate(stations_n):\n",
    "    filename = \"TW_env/\"+s+\"_2005_2017_adj.csv\"\n",
    "    data = pd.read_csv(filename, index_col=0)\n",
    "    TW_n[:,:,i] = data.iloc[:,2:].values\n",
    "\n",
    "for i,s in enumerate(stations_s):\n",
    "    filename = \"TW_env/\"+s+\"_2005_2017_adj.csv\"\n",
    "    data = pd.read_csv(filename, index_col=0)\n",
    "    TW_s[:,:,i] = data.iloc[:,2:].values\n",
    "\n",
    "for i,s in enumerate(stations_e):\n",
    "    filename = \"TW_env/\"+s+\"_2005_2017_adj.csv\"\n",
    "    data = pd.read_csv(filename, index_col=0)\n",
    "    TW_e[:,:,i] = data.iloc[:,2:].values\n",
    "    \n",
    "for i,s in enumerate(stations_n+stations_s+stations_e):\n",
    "    filename = \"TW_env/\"+s+\"_2005_2017_adj.csv\"\n",
    "    data = pd.read_csv(filename, index_col=0)\n",
    "    TW[:,:,i] = data.iloc[:,2:].values\n",
    "\n",
    "pollutant = list(data.columns[2:])"
   ]
  },
  {
   "cell_type": "code",
   "execution_count": 58,
   "metadata": {},
   "outputs": [],
   "source": [
    "def split_ws(X):\n",
    "    (T, P, S)= X.shape\n",
    "    W = np.zeros((int(T/2), P, S))\n",
    "    S = np.zeros((int(T/2), P, S))\n",
    "    w = 0\n",
    "    s = 0\n",
    "    for t in range(T):\n",
    "        if (t%12<3)|(t%12>8):\n",
    "            W[w,:,:] = X[t, :,:]\n",
    "            w += 1\n",
    "        else:\n",
    "            S[s,:,:] = X[t, :,:]\n",
    "            s += 1\n",
    "    return W, S"
   ]
  },
  {
   "cell_type": "code",
   "execution_count": 59,
   "metadata": {},
   "outputs": [],
   "source": [
    "T_W, T_S = split_ws(TW)"
   ]
  },
  {
   "cell_type": "markdown",
   "metadata": {},
   "source": [
    "# TCCA"
   ]
  },
  {
   "cell_type": "markdown",
   "metadata": {},
   "source": [
    "# N vs S"
   ]
  },
  {
   "cell_type": "code",
   "execution_count": 60,
   "metadata": {},
   "outputs": [
    {
     "name": "stdout",
     "output_type": "stream",
     "text": [
      "0.8876959173071776\n"
     ]
    }
   ],
   "source": [
    "inputX, inputY = TW_n, TW_s\n",
    "inputX, inputY = list(map(lambda x: x-x.mean(axis=0),(inputX, inputY)))\n",
    "loading, corr = twoDcca(inputX, inputY, x_regular=0.01, y_regular=0.01, iter_max=30)\n",
    "for i in range(20):\n",
    "    loading_tmp, corr_tmp = twoDcca(inputX, inputY, x_regular=0.01, y_regular=0.01, iter_max=30)\n",
    "    if corr<corr_tmp:\n",
    "        corr = corr_tmp\n",
    "        loading = loading_tmp\n",
    "print(corr)\n",
    "corr_n_s = corr"
   ]
  },
  {
   "cell_type": "code",
   "execution_count": 61,
   "metadata": {},
   "outputs": [
    {
     "name": "stdout",
     "output_type": "stream",
     "text": [
      "             Guting Tucheng Taoyuan Hsinchu   Erlin Xinying Xiaogang Meinong\n",
      "coefficient  -0.051   0.145   0.032   0.988  -0.776  -0.584    0.125  -0.200\n",
      "\n",
      "\n",
      "\\begin{tabular}{lllllllll}\n",
      "\\toprule\n",
      "{} &  Guting & Tucheng & Taoyuan & Hsinchu &   Erlin & Xinying & Xiaogang & Meinong \\\\\n",
      "\\midrule\n",
      "coefficient &  -0.051 &   0.145 &   0.032 &   0.988 &  -0.776 &  -0.584 &    0.125 &  -0.200 \\\\\n",
      "\\bottomrule\n",
      "\\end{tabular}\n",
      "\n"
     ]
    }
   ],
   "source": [
    "data = np.r_[loading[1],loading[3]].flatten()\n",
    "df = pd.DataFrame(data,columns=['coefficient'],index=stations_n+stations_s,dtype=float)\n",
    "df = df.replace('\\$\\s+','', regex=True).astype(float).applymap('{:,.3f}'.format)\n",
    "print(df.T)\n",
    "print('\\n')\n",
    "print(df.T.to_latex())"
   ]
  },
  {
   "cell_type": "code",
   "execution_count": 62,
   "metadata": {},
   "outputs": [
    {
     "name": "stdout",
     "output_type": "stream",
     "text": [
      "     SO2      CO      O3    PM10     NOx      NO    NO2\n",
      "N  0.001   0.479  -0.322  -0.132  -0.417   0.604  0.333\n",
      "S  0.570  -0.254   0.415   0.067   0.198  -0.619  0.111\n",
      "\n",
      "\n",
      "\\begin{tabular}{llllllll}\n",
      "\\toprule\n",
      "{} &    SO2 &      CO &      O3 &    PM10 &     NOx &      NO &    NO2 \\\\\n",
      "\\midrule\n",
      "N &  0.001 &   0.479 &  -0.322 &  -0.132 &  -0.417 &   0.604 &  0.333 \\\\\n",
      "S &  0.570 &  -0.254 &   0.415 &   0.067 &   0.198 &  -0.619 &  0.111 \\\\\n",
      "\\bottomrule\n",
      "\\end{tabular}\n",
      "\n"
     ]
    }
   ],
   "source": [
    "data = {'N':loading[0].flatten(),'S':loading[2].flatten()}\n",
    "df = pd.DataFrame(data,index=pollutant,dtype=float)\n",
    "df = df.replace('\\$\\s+','', regex=True).astype(float).applymap('{:,.3f}'.format)\n",
    "print(df.T)\n",
    "print('\\n')\n",
    "print(df.T.to_latex())"
   ]
  },
  {
   "cell_type": "code",
   "execution_count": 63,
   "metadata": {},
   "outputs": [],
   "source": [
    "# N vs E"
   ]
  },
  {
   "cell_type": "code",
   "execution_count": 64,
   "metadata": {},
   "outputs": [
    {
     "name": "stdout",
     "output_type": "stream",
     "text": [
      "0.9044492163445442\n"
     ]
    }
   ],
   "source": [
    "inputX, inputY = TW_n, TW_e\n",
    "inputX, inputY = list(map(lambda x: x-x.mean(axis=0),(inputX, inputY)))\n",
    "loading, corr = twoDcca(inputX, inputY, x_regular=0.01, y_regular=0.01, iter_max=30)\n",
    "for i in range(20):\n",
    "    (loading_tmp, corr_tmp) = twoDcca(inputX, inputY, x_regular=0.01, y_regular=0.01, iter_max=30)\n",
    "    if corr<corr_tmp:\n",
    "        corr = corr_tmp\n",
    "        loading = loading_tmp\n",
    "print(corr)\n",
    "corr_n_e = corr"
   ]
  },
  {
   "cell_type": "code",
   "execution_count": 65,
   "metadata": {},
   "outputs": [
    {
     "name": "stdout",
     "output_type": "stream",
     "text": [
      "             Guting Tucheng Taoyuan Hsinchu   Yilan Dongshan Hualien Taitung\n",
      "coefficient  -0.627  -0.671  -0.215  -0.331  -0.895    0.051  -0.441  -0.044\n",
      "\n",
      "\n",
      "\\begin{tabular}{lllllllll}\n",
      "\\toprule\n",
      "{} &  Guting & Tucheng & Taoyuan & Hsinchu &   Yilan & Dongshan & Hualien & Taitung \\\\\n",
      "\\midrule\n",
      "coefficient &  -0.627 &  -0.671 &  -0.215 &  -0.331 &  -0.895 &    0.051 &  -0.441 &  -0.044 \\\\\n",
      "\\bottomrule\n",
      "\\end{tabular}\n",
      "\n"
     ]
    }
   ],
   "source": [
    "data = np.r_[loading[1],loading[3]].flatten()\n",
    "df = pd.DataFrame(data,columns=['coefficient'],index=stations_n+stations_e,dtype=float)\n",
    "df = df.replace('\\$\\s+','', regex=True).astype(float).applymap('{:,.3f}'.format)\n",
    "print(df.T)\n",
    "print('\\n')\n",
    "print(df.T.to_latex())"
   ]
  },
  {
   "cell_type": "code",
   "execution_count": 66,
   "metadata": {},
   "outputs": [
    {
     "name": "stdout",
     "output_type": "stream",
     "text": [
      "      SO2      CO     O3   PM10     NOx     NO     NO2\n",
      "N  -0.779   0.567  0.170  0.165  -0.051  0.112  -0.014\n",
      "E  -0.027  -0.566  0.402  0.409   0.212  0.010  -0.552\n",
      "\n",
      "\n",
      "\\begin{tabular}{llllllll}\n",
      "\\toprule\n",
      "{} &     SO2 &      CO &     O3 &   PM10 &     NOx &     NO &     NO2 \\\\\n",
      "\\midrule\n",
      "N &  -0.779 &   0.567 &  0.170 &  0.165 &  -0.051 &  0.112 &  -0.014 \\\\\n",
      "E &  -0.027 &  -0.566 &  0.402 &  0.409 &   0.212 &  0.010 &  -0.552 \\\\\n",
      "\\bottomrule\n",
      "\\end{tabular}\n",
      "\n"
     ]
    }
   ],
   "source": [
    "data = {'N':loading[0].flatten(),'E':loading[2].flatten()}\n",
    "df = pd.DataFrame(data,index=pollutant,dtype=float)\n",
    "df = df.replace('\\$\\s+','', regex=True).astype(float).applymap('{:,.3f}'.format)\n",
    "print(df.T)\n",
    "print('\\n')\n",
    "print(df.T.to_latex())"
   ]
  },
  {
   "cell_type": "code",
   "execution_count": 67,
   "metadata": {},
   "outputs": [],
   "source": [
    "# S vs E"
   ]
  },
  {
   "cell_type": "code",
   "execution_count": 68,
   "metadata": {},
   "outputs": [
    {
     "name": "stdout",
     "output_type": "stream",
     "text": [
      "0.8166496879971927\n"
     ]
    }
   ],
   "source": [
    "inputX, inputY = TW_s, TW_e\n",
    "inputX, inputY = list(map(lambda x: x-x.mean(axis=0),(inputX, inputY)))\n",
    "(loading, corr) = twoDcca(inputX, inputY, x_regular=0.01, y_regular=0.01, iter_max=30)\n",
    "for i in range(20):\n",
    "    (loading_tmp, corr_tmp) = twoDcca(inputX, inputY, x_regular=0.01, y_regular=0.01, iter_max=30)\n",
    "    if corr<corr_tmp:\n",
    "        corr = corr_tmp\n",
    "        loading = loading_tmp\n",
    "print(corr)\n",
    "corr_s_e = corr"
   ]
  },
  {
   "cell_type": "code",
   "execution_count": 69,
   "metadata": {},
   "outputs": [
    {
     "name": "stdout",
     "output_type": "stream",
     "text": [
      "             Erlin Xinying Xiaogang Meinong  Yilan Dongshan Hualien Taitung\n",
      "coefficient  0.620   0.170    0.567   0.516  0.497   -0.142   0.296   0.803\n",
      "\n",
      "\n",
      "\\begin{tabular}{lllllllll}\n",
      "\\toprule\n",
      "{} &  Erlin & Xinying & Xiaogang & Meinong &  Yilan & Dongshan & Hualien & Taitung \\\\\n",
      "\\midrule\n",
      "coefficient &  0.620 &   0.170 &    0.567 &   0.516 &  0.497 &   -0.142 &   0.296 &   0.803 \\\\\n",
      "\\bottomrule\n",
      "\\end{tabular}\n",
      "\n"
     ]
    }
   ],
   "source": [
    "data = np.r_[loading[1],loading[3]].flatten()\n",
    "df = pd.DataFrame(data,columns=['coefficient'],index=stations_s+stations_e,dtype=float)\n",
    "df = df.replace('\\$\\s+','', regex=True).astype(float).applymap('{:,.3f}'.format)\n",
    "print(df.T)\n",
    "print('\\n')\n",
    "print(df.T.to_latex())"
   ]
  },
  {
   "cell_type": "code",
   "execution_count": 70,
   "metadata": {},
   "outputs": [
    {
     "name": "stdout",
     "output_type": "stream",
     "text": [
      "      SO2      CO     O3   PM10    NOx      NO     NO2\n",
      "S  -0.282  -0.715  0.140  0.021  0.355  -0.394  -0.329\n",
      "E  -0.183  -0.323  0.428  0.077  0.213  -0.033  -0.791\n",
      "\n",
      "\n",
      "\\begin{tabular}{llllllll}\n",
      "\\toprule\n",
      "{} &     SO2 &      CO &     O3 &   PM10 &    NOx &      NO &     NO2 \\\\\n",
      "\\midrule\n",
      "S &  -0.282 &  -0.715 &  0.140 &  0.021 &  0.355 &  -0.394 &  -0.329 \\\\\n",
      "E &  -0.183 &  -0.323 &  0.428 &  0.077 &  0.213 &  -0.033 &  -0.791 \\\\\n",
      "\\bottomrule\n",
      "\\end{tabular}\n",
      "\n"
     ]
    }
   ],
   "source": [
    "data = {'S':loading[0].flatten(),'E':loading[2].flatten()}\n",
    "df = pd.DataFrame(data,index=pollutant,dtype=float)\n",
    "df = df.replace('\\$\\s+','', regex=True).astype(float).applymap('{:,.3f}'.format)\n",
    "print(df.T)\n",
    "print('\\n')\n",
    "print(df.T.to_latex())"
   ]
  },
  {
   "cell_type": "code",
   "execution_count": 71,
   "metadata": {},
   "outputs": [
    {
     "name": "stdout",
     "output_type": "stream",
     "text": [
      "       Correlation\n",
      "N vs S       0.888\n",
      "S vs E       0.817\n",
      "N vs E       0.904\n",
      "\n",
      "\n",
      "\\begin{tabular}{llll}\n",
      "\\toprule\n",
      "{} & N vs S & S vs E & N vs E \\\\\n",
      "\\midrule\n",
      "Correlation &  0.888 &  0.817 &  0.904 \\\\\n",
      "\\bottomrule\n",
      "\\end{tabular}\n",
      "\n"
     ]
    }
   ],
   "source": [
    "data = [corr_n_s, corr_s_e, corr_n_e]\n",
    "df = pd.DataFrame(data,columns=['Correlation'],index=['N vs S','S vs E','N vs E'],dtype=float)\n",
    "df = df.replace('\\$\\s+','', regex=True).astype(float).applymap('{:,.3f}'.format)\n",
    "print(df)\n",
    "print('\\n')\n",
    "print(df.T.to_latex())"
   ]
  },
  {
   "cell_type": "code",
   "execution_count": 72,
   "metadata": {},
   "outputs": [],
   "source": [
    "# split data by summer and winter"
   ]
  },
  {
   "cell_type": "code",
   "execution_count": 73,
   "metadata": {},
   "outputs": [],
   "source": [
    "N_W, N_S = split_ws(TW_n)\n",
    "S_W, S_S = split_ws(TW_s)\n",
    "E_W, E_S = split_ws(TW_e)"
   ]
  },
  {
   "cell_type": "code",
   "execution_count": 74,
   "metadata": {},
   "outputs": [],
   "source": [
    "# N vs S"
   ]
  },
  {
   "cell_type": "code",
   "execution_count": 75,
   "metadata": {},
   "outputs": [
    {
     "name": "stdout",
     "output_type": "stream",
     "text": [
      "0.94026698462649\n"
     ]
    }
   ],
   "source": [
    "inputX, inputY = N_W, S_W\n",
    "inputX, inputY = list(map(lambda x: x-x.mean(axis=0),(inputX, inputY)))\n",
    "(loading, corr) = twoDcca(inputX, inputY, x_regular=0.01, y_regular=0.01, iter_max=40)\n",
    "for i in range(30):\n",
    "    (loading_tmp, corr_tmp) = twoDcca(inputX, inputY, x_regular=0.01, y_regular=0.01, iter_max=100)\n",
    "    if corr<corr_tmp:\n",
    "        corr = corr_tmp\n",
    "        loading = loading_tmp\n",
    "print(corr)\n",
    "loading_ww = loading\n",
    "corr_n_s_ww = corr"
   ]
  },
  {
   "cell_type": "code",
   "execution_count": 76,
   "metadata": {},
   "outputs": [
    {
     "name": "stdout",
     "output_type": "stream",
     "text": [
      "0.8891444766710277\n"
     ]
    }
   ],
   "source": [
    "inputX, inputY = N_S, S_S\n",
    "inputX, inputY = list(map(lambda x: x-x.mean(axis=0),(inputX, inputY)))\n",
    "(loading, corr) = twoDcca(inputX, inputY, x_regular=0.01, y_regular=0.01, iter_max=40)\n",
    "for i in range(30):\n",
    "    (loading_tmp, corr_tmp) = twoDcca(inputX, inputY, x_regular=0.01, y_regular=0.01, iter_max=40)\n",
    "    if corr<corr_tmp:\n",
    "        corr = corr_tmp\n",
    "        loading = loading_tmp\n",
    "print(corr)\n",
    "loading_ss = loading\n",
    "corr_n_s_ss = corr"
   ]
  },
  {
   "cell_type": "code",
   "execution_count": 77,
   "metadata": {},
   "outputs": [
    {
     "name": "stdout",
     "output_type": "stream",
     "text": [
      "       Guting Tucheng Taoyuan Hsinchu   Erlin Xinying Xiaogang Meinong\n",
      "Winter  0.423   0.061   0.078   0.901  -0.925  -0.345    0.161  -0.024\n",
      "Summer  0.400  -0.277  -0.189  -0.853  -0.834  -0.435   -0.206  -0.270\n",
      "\n",
      "\n",
      "\\begin{tabular}{lllllllll}\n",
      "\\toprule\n",
      "{} & Guting & Tucheng & Taoyuan & Hsinchu &   Erlin & Xinying & Xiaogang & Meinong \\\\\n",
      "\\midrule\n",
      "Winter &  0.423 &   0.061 &   0.078 &   0.901 &  -0.925 &  -0.345 &    0.161 &  -0.024 \\\\\n",
      "Summer &  0.400 &  -0.277 &  -0.189 &  -0.853 &  -0.834 &  -0.435 &   -0.206 &  -0.270 \\\\\n",
      "\\bottomrule\n",
      "\\end{tabular}\n",
      "\n"
     ]
    }
   ],
   "source": [
    "data = {\"Winter\":np.r_[loading_ww[1],loading_ww[3]].flatten(),\"Summer\":np.r_[loading_ss[1],loading_ss[3]].flatten()}\n",
    "df = pd.DataFrame(data,index=stations_n+stations_s,dtype=float)\n",
    "df = df.replace('\\$\\s+','', regex=True).astype(float).applymap('{:,.3f}'.format)\n",
    "print(df.T)\n",
    "print('\\n')\n",
    "print(df.T.to_latex())"
   ]
  },
  {
   "cell_type": "code",
   "execution_count": 78,
   "metadata": {},
   "outputs": [
    {
     "name": "stdout",
     "output_type": "stream",
     "text": [
      "              SO2      CO      O3    PM10     NOx     NO     NO2\n",
      "N(Winter)  -0.122  -0.672   0.176   0.084  -0.298  0.083   0.633\n",
      "S(Winter)  -0.229  -0.805  -0.357  -0.071  -0.291  0.242  -0.153\n",
      "N(Summer)   0.540   0.344  -0.532  -0.060  -0.263  0.479  -0.066\n",
      "S(Summer)  -0.001   0.136  -0.360   0.003   0.232  0.740  -0.500\n",
      "\n",
      "\n",
      "\\begin{tabular}{llllllll}\n",
      "\\toprule\n",
      "{} &     SO2 &      CO &      O3 &    PM10 &     NOx &     NO &     NO2 \\\\\n",
      "\\midrule\n",
      "N(Winter) &  -0.122 &  -0.672 &   0.176 &   0.084 &  -0.298 &  0.083 &   0.633 \\\\\n",
      "S(Winter) &  -0.229 &  -0.805 &  -0.357 &  -0.071 &  -0.291 &  0.242 &  -0.153 \\\\\n",
      "N(Summer) &   0.540 &   0.344 &  -0.532 &  -0.060 &  -0.263 &  0.479 &  -0.066 \\\\\n",
      "S(Summer) &  -0.001 &   0.136 &  -0.360 &   0.003 &   0.232 &  0.740 &  -0.500 \\\\\n",
      "\\bottomrule\n",
      "\\end{tabular}\n",
      "\n"
     ]
    }
   ],
   "source": [
    "data = {'N(Winter)':loading_ww[0].flatten(),'S(Winter)':loading_ww[2].flatten(),'N(Summer)':loading_ss[0].flatten(),'S(Summer)':loading_ss[2].flatten()}\n",
    "df = pd.DataFrame(data,index=pollutant,dtype=float)\n",
    "df = df.replace('\\$\\s+','', regex=True).astype(float).applymap('{:,.3f}'.format)\n",
    "print(df.T)\n",
    "print('\\n')\n",
    "print(df.T.to_latex())"
   ]
  },
  {
   "cell_type": "code",
   "execution_count": 79,
   "metadata": {},
   "outputs": [],
   "source": [
    "# N vs E"
   ]
  },
  {
   "cell_type": "code",
   "execution_count": 80,
   "metadata": {},
   "outputs": [
    {
     "name": "stdout",
     "output_type": "stream",
     "text": [
      "0.9302649230143509\n"
     ]
    }
   ],
   "source": [
    "inputX, inputY = N_W, E_W\n",
    "inputX, inputY = list(map(lambda x: x-x.mean(axis=0),(inputX, inputY)))\n",
    "(loading, corr) = twoDcca(inputX, inputY, x_regular=0.01, y_regular=0.01, iter_max=30)\n",
    "for i in range(20):\n",
    "    (loading_tmp, corr_tmp) = twoDcca(inputX, inputY, x_regular=0.01, y_regular=0.01, iter_max=30)\n",
    "    if corr<corr_tmp:\n",
    "        corr = corr_tmp\n",
    "        loading = loading_tmp\n",
    "print(corr)\n",
    "loading_ww = loading\n",
    "corr_ww = corr\n",
    "corr_n_e_ww = corr"
   ]
  },
  {
   "cell_type": "code",
   "execution_count": 81,
   "metadata": {},
   "outputs": [
    {
     "name": "stdout",
     "output_type": "stream",
     "text": [
      "0.9143104490461496\n"
     ]
    }
   ],
   "source": [
    "inputX, inputY = N_S, E_S\n",
    "inputX, inputY = list(map(lambda x: x-x.mean(axis=0),(inputX, inputY)))\n",
    "(loading, corr) = twoDcca(inputX, inputY, x_regular=0.01, y_regular=0.01, iter_max=30)\n",
    "for i in range(20):\n",
    "    (loading_tmp, corr_tmp) = twoDcca(inputX, inputY, x_regular=0.01, y_regular=0.01, iter_max=30)\n",
    "    if corr<corr_tmp:\n",
    "        corr = corr_tmp\n",
    "        loading = loading_tmp\n",
    "print(corr)\n",
    "loading_ss = loading\n",
    "corr_ss = corr\n",
    "corr_n_e_ss = corr"
   ]
  },
  {
   "cell_type": "code",
   "execution_count": 82,
   "metadata": {},
   "outputs": [
    {
     "name": "stdout",
     "output_type": "stream",
     "text": [
      "        Guting Tucheng Taoyuan Hsinchu   Yilan Dongshan Hualien Taitung\n",
      "Winter   0.601   0.719   0.343   0.060  -0.817   -0.279  -0.501  -0.065\n",
      "Summer  -0.419  -0.225  -0.783  -0.401   0.843    0.195   0.464   0.188\n",
      "\n",
      "\n",
      "\\begin{tabular}{lllllllll}\n",
      "\\toprule\n",
      "{} &  Guting & Tucheng & Taoyuan & Hsinchu &   Yilan & Dongshan & Hualien & Taitung \\\\\n",
      "\\midrule\n",
      "Winter &   0.601 &   0.719 &   0.343 &   0.060 &  -0.817 &   -0.279 &  -0.501 &  -0.065 \\\\\n",
      "Summer &  -0.419 &  -0.225 &  -0.783 &  -0.401 &   0.843 &    0.195 &   0.464 &   0.188 \\\\\n",
      "\\bottomrule\n",
      "\\end{tabular}\n",
      "\n"
     ]
    }
   ],
   "source": [
    "data = {\"Winter\":np.r_[loading_ww[1],loading_ww[3]].flatten(),\"Summer\":np.r_[loading_ss[1],loading_ss[3]].flatten()}\n",
    "df = pd.DataFrame(data,index=stations_n+stations_e,dtype=float)\n",
    "df = df.replace('\\$\\s+','', regex=True).astype(float).applymap('{:,.3f}'.format)\n",
    "print(df.T)\n",
    "print('\\n')\n",
    "print(df.T.to_latex())"
   ]
  },
  {
   "cell_type": "code",
   "execution_count": 83,
   "metadata": {},
   "outputs": [
    {
     "name": "stdout",
     "output_type": "stream",
     "text": [
      "              SO2      CO      O3    PM10     NOx      NO     NO2\n",
      "N(Winter)   0.473   0.331  -0.247  -0.077   0.397  -0.431  -0.506\n",
      "E(Winter)  -0.566  -0.233   0.331   0.148   0.414  -0.479  -0.304\n",
      "N(Summer)  -0.111   0.113   0.074   0.188   0.450  -0.283  -0.807\n",
      "E(Summer)  -0.272   0.371  -0.127  -0.209  -0.099  -0.473   0.704\n",
      "\n",
      "\n",
      "\\begin{tabular}{llllllll}\n",
      "\\toprule\n",
      "{} &     SO2 &      CO &      O3 &    PM10 &     NOx &      NO &     NO2 \\\\\n",
      "\\midrule\n",
      "N(Winter) &   0.473 &   0.331 &  -0.247 &  -0.077 &   0.397 &  -0.431 &  -0.506 \\\\\n",
      "E(Winter) &  -0.566 &  -0.233 &   0.331 &   0.148 &   0.414 &  -0.479 &  -0.304 \\\\\n",
      "N(Summer) &  -0.111 &   0.113 &   0.074 &   0.188 &   0.450 &  -0.283 &  -0.807 \\\\\n",
      "E(Summer) &  -0.272 &   0.371 &  -0.127 &  -0.209 &  -0.099 &  -0.473 &   0.704 \\\\\n",
      "\\bottomrule\n",
      "\\end{tabular}\n",
      "\n"
     ]
    }
   ],
   "source": [
    "data = {'N(Winter)':loading_ww[0].flatten(),'E(Winter)':loading_ww[2].flatten(),'N(Summer)':loading_ss[0].flatten(),'E(Summer)':loading_ss[2].flatten()}\n",
    "df = pd.DataFrame(data,index=pollutant,dtype=float)\n",
    "df = df.replace('\\$\\s+','', regex=True).astype(float).applymap('{:,.3f}'.format)\n",
    "print(df.T)\n",
    "print('\\n')\n",
    "print(df.T.to_latex())"
   ]
  },
  {
   "cell_type": "code",
   "execution_count": 84,
   "metadata": {},
   "outputs": [],
   "source": [
    "# S vs E"
   ]
  },
  {
   "cell_type": "code",
   "execution_count": 85,
   "metadata": {},
   "outputs": [
    {
     "name": "stdout",
     "output_type": "stream",
     "text": [
      "0.9037652204428891\n"
     ]
    }
   ],
   "source": [
    "inputX, inputY = S_W, E_W\n",
    "inputX, inputY = list(map(lambda x: x-x.mean(axis=0),(inputX, inputY)))\n",
    "(loading, corr) = twoDcca(inputX, inputY, x_regular=0.01, y_regular=0.01, iter_max=30)\n",
    "for i in range(20):\n",
    "    (loading_tmp, corr_tmp) = twoDcca(inputX, inputY, x_regular=0.01, y_regular=0.01, iter_max=30)\n",
    "    if corr<corr_tmp:\n",
    "        corr = corr_tmp\n",
    "        loading = loading_tmp\n",
    "print(corr)\n",
    "loading_ww = loading\n",
    "corr_s_e_ww = corr"
   ]
  },
  {
   "cell_type": "code",
   "execution_count": 86,
   "metadata": {},
   "outputs": [
    {
     "name": "stdout",
     "output_type": "stream",
     "text": [
      "0.8214624741700951\n"
     ]
    }
   ],
   "source": [
    "inputX, inputY = S_S, E_S\n",
    "inputX, inputY = list(map(lambda x: x-x.mean(axis=0),(inputX, inputY)))\n",
    "(loading, corr) = twoDcca(inputX, inputY, x_regular=0.01, y_regular=0.01, iter_max=30)\n",
    "for i in range(20):\n",
    "    (loading_tmp, corr_tmp) = twoDcca(inputX, inputY, x_regular=0.01, y_regular=0.01, iter_max=30)\n",
    "    if corr<corr_tmp:\n",
    "        corr = corr_tmp\n",
    "        loading = loading_tmp\n",
    "print(corr)\n",
    "loading_ss = loading\n",
    "corr_s_e_ss = corr"
   ]
  },
  {
   "cell_type": "code",
   "execution_count": 87,
   "metadata": {},
   "outputs": [
    {
     "name": "stdout",
     "output_type": "stream",
     "text": [
      "         Erlin Xinying Xiaogang Meinong  Yilan Dongshan Hualien Taitung\n",
      "Winter  -0.961   0.060   -0.115  -0.243  0.462    0.147   0.751   0.447\n",
      "Summer   0.346   0.809    0.291   0.374  0.741   -0.357   0.327   0.465\n",
      "\n",
      "\n",
      "\\begin{tabular}{lllllllll}\n",
      "\\toprule\n",
      "{} &   Erlin & Xinying & Xiaogang & Meinong &  Yilan & Dongshan & Hualien & Taitung \\\\\n",
      "\\midrule\n",
      "Winter &  -0.961 &   0.060 &   -0.115 &  -0.243 &  0.462 &    0.147 &   0.751 &   0.447 \\\\\n",
      "Summer &   0.346 &   0.809 &    0.291 &   0.374 &  0.741 &   -0.357 &   0.327 &   0.465 \\\\\n",
      "\\bottomrule\n",
      "\\end{tabular}\n",
      "\n"
     ]
    }
   ],
   "source": [
    "data = {\"Winter\":np.r_[loading_ww[1],loading_ww[3]].flatten(),\"Summer\":np.r_[loading_ss[1],loading_ss[3]].flatten()}\n",
    "df = pd.DataFrame(data,index=stations_s+stations_e,dtype=float)\n",
    "df = df.replace('\\$\\s+','', regex=True).astype(float).applymap('{:,.3f}'.format)\n",
    "print(df.T)\n",
    "print('\\n')\n",
    "print(df.T.to_latex())"
   ]
  },
  {
   "cell_type": "code",
   "execution_count": 88,
   "metadata": {},
   "outputs": [
    {
     "name": "stdout",
     "output_type": "stream",
     "text": [
      "              SO2      CO      O3    PM10     NOx      NO     NO2\n",
      "S(Winter)   0.401   0.026  -0.263  -0.019  -0.628   0.392   0.469\n",
      "E(Winter)  -0.302  -0.524   0.170   0.077   0.282  -0.712  -0.116\n",
      "S(Summer)   0.619   0.135  -0.173  -0.010  -0.446   0.288   0.535\n",
      "E(Summer)   0.106  -0.025  -0.265  -0.048  -0.259  -0.622   0.680\n",
      "\n",
      "\n",
      "\\begin{tabular}{llllllll}\n",
      "\\toprule\n",
      "{} &     SO2 &      CO &      O3 &    PM10 &     NOx &      NO &     NO2 \\\\\n",
      "\\midrule\n",
      "S(Winter) &   0.401 &   0.026 &  -0.263 &  -0.019 &  -0.628 &   0.392 &   0.469 \\\\\n",
      "E(Winter) &  -0.302 &  -0.524 &   0.170 &   0.077 &   0.282 &  -0.712 &  -0.116 \\\\\n",
      "S(Summer) &   0.619 &   0.135 &  -0.173 &  -0.010 &  -0.446 &   0.288 &   0.535 \\\\\n",
      "E(Summer) &   0.106 &  -0.025 &  -0.265 &  -0.048 &  -0.259 &  -0.622 &   0.680 \\\\\n",
      "\\bottomrule\n",
      "\\end{tabular}\n",
      "\n"
     ]
    }
   ],
   "source": [
    "data = {'S(Winter)':loading_ww[0].flatten(),'E(Winter)':loading_ww[2].flatten(),'S(Summer)':loading_ss[0].flatten(),'E(Summer)':loading_ss[2].flatten()}\n",
    "df = pd.DataFrame(data,index=pollutant,dtype=float)\n",
    "df = df.replace('\\$\\s+','', regex=True).astype(float).applymap('{:,.3f}'.format)\n",
    "print(df.T)\n",
    "print('\\n')\n",
    "print(df.T.to_latex())"
   ]
  },
  {
   "cell_type": "code",
   "execution_count": 89,
   "metadata": {},
   "outputs": [],
   "source": [
    "# summary"
   ]
  },
  {
   "cell_type": "code",
   "execution_count": 90,
   "metadata": {},
   "outputs": [
    {
     "name": "stdout",
     "output_type": "stream",
     "text": [
      "       N vs S S vs E N vs E\n",
      "Winter  0.940  0.904  0.930\n",
      "Summer  0.889  0.821  0.914\n",
      "\n",
      "\n",
      "\\begin{tabular}{llll}\n",
      "\\toprule\n",
      "{} & N vs S & S vs E & N vs E \\\\\n",
      "\\midrule\n",
      "Winter &  0.940 &  0.904 &  0.930 \\\\\n",
      "Summer &  0.889 &  0.821 &  0.914 \\\\\n",
      "\\bottomrule\n",
      "\\end{tabular}\n",
      "\n"
     ]
    }
   ],
   "source": [
    "data = {'N vs S':[corr_n_s_ww, corr_n_s_ss], \"S vs E\":[corr_s_e_ww, corr_s_e_ss], \"N vs E\":[corr_n_e_ww, corr_n_e_ss]}\n",
    "df = pd.DataFrame(data,index=['Winter','Summer'],dtype=float)\n",
    "df = df.replace('\\$\\s+','', regex=True).astype(float).applymap('{:,.3f}'.format)\n",
    "print(df)\n",
    "print('\\n')\n",
    "print(df.to_latex())"
   ]
  }
 ],
 "metadata": {
  "kernelspec": {
   "display_name": "Python 3",
   "language": "python",
   "name": "python3"
  },
  "language_info": {
   "codemirror_mode": {
    "name": "ipython",
    "version": 3
   },
   "file_extension": ".py",
   "mimetype": "text/x-python",
   "name": "python",
   "nbconvert_exporter": "python",
   "pygments_lexer": "ipython3",
   "version": "3.6.7"
  }
 },
 "nbformat": 4,
 "nbformat_minor": 4
}
