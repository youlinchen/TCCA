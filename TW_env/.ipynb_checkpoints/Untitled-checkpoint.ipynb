{
 "cells": [
  {
   "cell_type": "code",
   "execution_count": 399,
   "metadata": {},
   "outputs": [],
   "source": [
    "import numpy as np\n",
    "import scipy.linalg as la\n",
    "import pandas as pd\n",
    "import matplotlib.pyplot as plt"
   ]
  },
  {
   "cell_type": "code",
   "execution_count": 400,
   "metadata": {},
   "outputs": [],
   "source": [
    "def unitVec(x):\n",
    "    y = np.random.randn(x, 1)\n",
    "    return y/la.norm(y)\n",
    "\n",
    "def OMat(x, p):\n",
    "    y = np.random.randn(x, p)\n",
    "    return la.qr(y,  mode='economic')[0]\n",
    "\n",
    "def towDcca_transform(X, L, R):\n",
    "    (N, _, _) = X.shape\n",
    "    (_, k1) = L.shape\n",
    "    (_, k2) = R.shape\n",
    "    return (np.matmul(np.matmul(L.T, X), R)).reshape(N, k1*k2)\n",
    "\n",
    "def twoDcca_oneStep(ui, vi, X, Y, x_regular=1e-4, y_regular=1e-4):\n",
    "    (N, p) = X.shape\n",
    "    (N, q) = Y.shape\n",
    "\n",
    "    Sxx = np.matmul(X.T, X)/N\n",
    "    Sxy = np.matmul(X.T, Y)/N\n",
    "    Syy = np.matmul(Y.T, Y)/N\n",
    "    \n",
    "    u = la.solve((Sxx+x_regular*np.eye(p)),Sxy@vi)\n",
    "    u /= la.norm(u)\n",
    "    du = u-ui\n",
    "    v = la.solve((Syy+y_regular*np.eye(q)),Sxy.T@u)\n",
    "    v /= la.norm(v)\n",
    "    dv = v-vi\n",
    "\n",
    "    return u, v, du.T@du, dv.T@dv\n",
    "\n",
    "def twoDcca(X, Y, loading_init=None, x_regular=1e-4, y_regular=1e-4, iter_max=10):\n",
    "    (N, mx, nx) = X.shape\n",
    "    (_, my, ny) = Y.shape\n",
    "    \n",
    "    (Lx, Rx, Ly, Ry) = loading_init if loading_init else list(map(unitVec, (mx, nx, my, ny)))\n",
    "  \n",
    "    loading = [Lx, Rx, Ly, Ry]\n",
    "    \n",
    "    corr = np.zeros(iter_max+1)\n",
    "    error = np.zeros(iter_max)\n",
    "    error_Lx = np.zeros(iter_max)\n",
    "    error_Rx = np.zeros(iter_max)\n",
    "    error_Ly = np.zeros(iter_max)\n",
    "    error_Ry = np.zeros(iter_max)\n",
    "    \n",
    "    X_tf = towDcca_transform(X, Lx, Rx)\n",
    "    Y_tf = towDcca_transform(Y, Ly, Ry)\n",
    "    corr[0] = np.corrcoef(X_tf.T, Y_tf.T)[0][1]\n",
    "\n",
    "    for n in range(iter_max):\n",
    "        \n",
    "        XR = np.matmul(X, Rx)[:,:,0]\n",
    "        YR = np.matmul(Y, Ry)[:,:,0]\n",
    "        (Lx, Ly, dLx, dLy) = twoDcca_oneStep(Lx, Ly, XR, YR, x_regular, y_regular)\n",
    "        XL = np.matmul(X.transpose(0,2,1), Lx)[:,:,0]\n",
    "        YL = np.matmul(Y.transpose(0,2,1), Ly)[:,:,0]\n",
    "        (Rx, Ry, dRx, dRy) = twoDcca_oneStep(Rx, Ry, XL, YL, x_regular, y_regular)\n",
    "        \n",
    "        X_tf = towDcca_transform(X, Lx, Rx)\n",
    "        Y_tf = towDcca_transform(Y, Ly, Ry)\n",
    "      \n",
    "        loading = [Lx, Rx, Ly, Ry]\n",
    "        corr[n+1] = np.corrcoef(X_tf.T, Y_tf.T)[0][1]\n",
    "        error[n] = dLx+dLy+dRx+dRy\n",
    "        error_Lx[n] = dLx\n",
    "        error_Rx[n] = dRx\n",
    "        error_Ly[n] = dLy\n",
    "        error_Ry[n] = dRy\n",
    "        \n",
    "    return loading, corr, (error, error_Lx, error_Rx, error_Ly, error_Ry)"
   ]
  },
  {
   "cell_type": "code",
   "execution_count": 401,
   "metadata": {},
   "outputs": [],
   "source": [
    "def normalize(M, A):\n",
    "    (U, D, V) = la.svd(M.T@A@M)\n",
    "    return M@U@np.diag(D**(-1/2))@V\n",
    "\n",
    "def twoDcca_mat_oneStep(U0, V0, X, Y, x_regular=1e-4, y_regular=1e-4):\n",
    "    (n, p) = X.shape\n",
    "    (_, q) = Y.shape\n",
    "\n",
    "    Sxx = np.matmul(X.T, X)/n+x_regular*np.eye(p)\n",
    "    Sxy = np.matmul(X.T, Y)/n\n",
    "    Syy = np.matmul(Y.T, Y)/n+y_regular*np.eye(q)\n",
    "    \n",
    "    U = la.solve(Sxx,Sxy@V0)\n",
    "    U = normalize(U, Sxx)\n",
    "    dU = la.norm(U-U0,ord='fro')\n",
    "    \n",
    "    V = la.solve(Syy,Sxy.T@U)\n",
    "    V = normalize(V, Syy)\n",
    "    dV = la.norm(V-V0,ord='fro')\n",
    "\n",
    "    return U, V, dU, dV\n",
    "\n",
    "\n",
    "def twoDcca_mat(X, Y, p1, p2, loading_init=None, x_regular=1e-4, y_regular=1e-4, iter_max=10):\n",
    "    (N, mx, nx) = X.shape\n",
    "    (_, my, ny) = Y.shape\n",
    "    \n",
    "    loading = (Lx, Rx, Ly, Ry) = loading_init if loading_init else list(map(OMat, (mx, nx, my, ny), (p1, p2, p1, p2)))\n",
    "    \n",
    "    corr = np.zeros(iter_max+1)\n",
    "    error = np.zeros(iter_max)\n",
    "\n",
    "    X_tf = towDcca_transform(X, Lx, Rx)\n",
    "    Y_tf = towDcca_transform(Y, Ly, Ry)\n",
    "    corr[0] = la.norm(X_tf - Y_tf , ord='fro')\n",
    "    \n",
    "    for n in range(iter_max):\n",
    "        \n",
    "        XR = np.matmul(X, Rx)[:,:,0]\n",
    "        YR = np.matmul(Y, Ry)[:,:,0]\n",
    "        (Lx, Ly, dLx, dLy) = twoDcca_mat_oneStep(Lx, Ly, XR, YR, x_regular, y_regular)\n",
    "        \n",
    "        XL = np.matmul(X.transpose(0,2,1), Lx)[:,:,0]\n",
    "        YL = np.matmul(Y.transpose(0,2,1), Ly)[:,:,0]\n",
    "        (Rx, Ry, dRx, dRy) = twoDcca_mat_oneStep(Rx, Ry, XL, YL, x_regular, y_regular)\n",
    "        X_tf = towDcca_transform(X, Lx, Rx)\n",
    "        Y_tf = towDcca_transform(Y, Ly, Ry)\n",
    "        corr[n+1] = la.norm(X_tf - Y_tf , ord='fro')\n",
    "        \n",
    "        loading = [Lx, Rx, Ly, Ry]\n",
    "        error[n] = dLx+dLy+dRx+dRy\n",
    "        \n",
    "    return loading, corr, error"
   ]
  },
  {
   "cell_type": "code",
   "execution_count": 466,
   "metadata": {},
   "outputs": [],
   "source": [
    "stations=[\"Guting\",\"Tucheng\",\"Taoyuan\",\"Hsinchu\",\"Toufen\",\"Erlin\",\n",
    "          \"Xinying\",\"Dongshan\", \"Hualien\",\"Taitung\",\"Magong\",\"Kinmen\",\"Matsu\"]"
   ]
  },
  {
   "cell_type": "code",
   "execution_count": 506,
   "metadata": {},
   "outputs": [],
   "source": [
    "X = np.zeros((48, 13, 7))"
   ]
  },
  {
   "cell_type": "code",
   "execution_count": 507,
   "metadata": {},
   "outputs": [],
   "source": [
    "for i,s in enumerate(stations):\n",
    "    filename = s+\"_2005_2017_adj_m.csv\"\n",
    "    data = pd.read_csv(filename, index_col=0)\n",
    "    X[:,i,:] = data.iloc[12*7:-12,2:].values"
   ]
  },
  {
   "cell_type": "code",
   "execution_count": 469,
   "metadata": {},
   "outputs": [],
   "source": [
    "chipm25_adj = pd.read_csv(\"chipm25_adj_m.csv\", index_col=0)"
   ]
  },
  {
   "cell_type": "code",
   "execution_count": 470,
   "metadata": {},
   "outputs": [],
   "source": [
    "Y = chipm25_adj.values[:12*4,:].reshape(-1,3,1)"
   ]
  },
  {
   "cell_type": "code",
   "execution_count": 510,
   "metadata": {},
   "outputs": [],
   "source": [
    "X -= X.mean(axis=0)\n",
    "Y -= Y.mean(axis=0)"
   ]
  },
  {
   "cell_type": "code",
   "execution_count": 511,
   "metadata": {},
   "outputs": [
    {
     "name": "stdout",
     "output_type": "stream",
     "text": [
      "0.8947880269120619\n"
     ]
    }
   ],
   "source": [
    "(loading, corr, error) = twoDcca(X, Y, x_regular=0.01, y_regular=0.01, iter_max=30)\n",
    "for i in range(20):\n",
    "    (loading_tmp, corr_tmp, error_tmp) = twoDcca(X, Y, x_regular=0.01, y_regular=0.01, iter_max=30)\n",
    "    if corr[-1]<corr_tmp[-1]:\n",
    "        corr = corr_tmp\n",
    "        loading = loading_tmp\n",
    "print(corr[-1])"
   ]
  },
  {
   "cell_type": "code",
   "execution_count": 558,
   "metadata": {},
   "outputs": [
    {
     "data": {
      "text/plain": [
       "(48, 3, 1)"
      ]
     },
     "execution_count": 558,
     "metadata": {},
     "output_type": "execute_result"
    }
   ],
   "source": [
    "Y.shape"
   ]
  },
  {
   "cell_type": "code",
   "execution_count": 559,
   "metadata": {},
   "outputs": [
    {
     "data": {
      "text/plain": [
       "Index(['Time', 'Station', 'SO2', 'CO', 'O3', 'PM10', 'NOx', 'NO', 'NO2'], dtype='object')"
      ]
     },
     "execution_count": 559,
     "metadata": {},
     "output_type": "execute_result"
    }
   ],
   "source": [
    "data.columns"
   ]
  },
  {
   "cell_type": "code",
   "execution_count": 555,
   "metadata": {},
   "outputs": [
    {
     "name": "stdout",
     "output_type": "stream",
     "text": [
      "8.23547012260123\n"
     ]
    }
   ],
   "source": [
    "inputX, inputY = X, Y\n",
    "p1, p2 = 2, 1\n",
    "(loading, corr, error) = twoDcca_mat(inputX, inputY, p1=p1, p2=p2, x_regular=0.01, y_regular=0.01, iter_max=2)\n",
    "for i in range(20):\n",
    "    (loading_tmp, corr_tmp, error_tmp) = twoDcca_mat(inputX, inputY, p1=p1, p2=p2, x_regular=0.01, y_regular=0.01, iter_max=30)\n",
    "    if corr[-1]<corr_tmp[-1]:\n",
    "        corr = corr_tmp\n",
    "        loading = loading_tmp\n",
    "print(corr[-1])"
   ]
  },
  {
   "cell_type": "code",
   "execution_count": 557,
   "metadata": {},
   "outputs": [
    {
     "data": {
      "image/png": "[encoded data removed]",
      "text/plain": [
       "<Figure size 432x288 with 1 Axes>"
      ]
     },
     "metadata": {},
     "output_type": "display_data"
    }
   ],
   "source": [
    "X_tf = towDcca_transform(inputX, loading[0], loading[1])\n",
    "fig, ax = plt.subplots()\n",
    "ax.scatter(X_tf[:,0],X_tf[:,1])\n",
    "\n",
    "for i in range(48):\n",
    "    ax.annotate(str(i%12), (X_tf[i,0], X_tf[i,1]))"
   ]
  },
  {
   "cell_type": "code",
   "execution_count": null,
   "metadata": {},
   "outputs": [],
   "source": []
  },
  {
   "cell_type": "code",
   "execution_count": 512,
   "metadata": {},
   "outputs": [],
   "source": [
    "def split_ws(X):\n",
    "    (T, P, S)= X.shape\n",
    "    W = np.zeros((int(T/2), P, S))\n",
    "    S = np.zeros((int(T/2), P, S))\n",
    "    w = 0\n",
    "    s = 0\n",
    "    for t in range(48):\n",
    "        if (t%12<3)|(t%12>8):\n",
    "            W[w,:,:] = X[t, :,:]\n",
    "            w += 1\n",
    "        else:\n",
    "            S[s,:,:] = X[t, :,:]\n",
    "            s += 1\n",
    "    return W, S"
   ]
  },
  {
   "cell_type": "code",
   "execution_count": 513,
   "metadata": {},
   "outputs": [],
   "source": [
    "TW_w_w, TW_w_s = split_ws(X)"
   ]
  },
  {
   "cell_type": "code",
   "execution_count": 514,
   "metadata": {},
   "outputs": [],
   "source": [
    "CH_w, CH_s = split_ws(Y)"
   ]
  },
  {
   "cell_type": "code",
   "execution_count": 515,
   "metadata": {},
   "outputs": [
    {
     "name": "stdout",
     "output_type": "stream",
     "text": [
      "0.9947369741446714\n"
     ]
    }
   ],
   "source": [
    "inputX, inputY = TW_w_w, CH_w\n",
    "\n",
    "(loading, corr, error) = twoDcca(inputX, inputY, x_regular=0.01, y_regular=0.01, iter_max=30)\n",
    "for i in range(20):\n",
    "    (loading_tmp, corr_tmp, error_tmp) = twoDcca(inputX, inputY, x_regular=0.01, y_regular=0.01, iter_max=30)\n",
    "    if corr[-1]<corr_tmp[-1]:\n",
    "        corr = corr_tmp\n",
    "        loading = loading_tmp\n",
    "print(corr[-1])"
   ]
  },
  {
   "cell_type": "code",
   "execution_count": 516,
   "metadata": {},
   "outputs": [
    {
     "name": "stdout",
     "output_type": "stream",
     "text": [
      "0.9836824816474945\n"
     ]
    }
   ],
   "source": [
    "inputX, inputY = TW_w_s, CH_s\n",
    "\n",
    "(loading, corr, error) = twoDcca(inputX, inputY, x_regular=0.01, y_regular=0.01, iter_max=30)\n",
    "for i in range(20):\n",
    "    (loading_tmp, corr_tmp, error_tmp) = twoDcca(inputX, inputY, x_regular=0.01, y_regular=0.01, iter_max=30)\n",
    "    if corr[-1]<corr_tmp[-1]:\n",
    "        corr = corr_tmp\n",
    "        loading = loading_tmp\n",
    "print(corr[-1])"
   ]
  },
  {
   "cell_type": "code",
   "execution_count": 417,
   "metadata": {},
   "outputs": [
    {
     "data": {
      "text/plain": [
       "(48, 7, 13)"
      ]
     },
     "execution_count": 417,
     "metadata": {},
     "output_type": "execute_result"
    }
   ],
   "source": [
    "X.shape"
   ]
  },
  {
   "cell_type": "code",
   "execution_count": 210,
   "metadata": {},
   "outputs": [],
   "source": [
    "XX = X.transpose(2, 1, 0)"
   ]
  },
  {
   "cell_type": "code",
   "execution_count": 249,
   "metadata": {},
   "outputs": [
    {
     "data": {
      "text/plain": [
       "(54, 3, 1)"
      ]
     },
     "execution_count": 249,
     "metadata": {},
     "output_type": "execute_result"
    }
   ],
   "source": [
    "Y.shape"
   ]
  },
  {
   "cell_type": "code",
   "execution_count": 287,
   "metadata": {},
   "outputs": [],
   "source": [
    "YY = np.tile(Y, 13)\n",
    "YY = YY.transpose(2,1,0)"
   ]
  },
  {
   "cell_type": "code",
   "execution_count": 288,
   "metadata": {},
   "outputs": [
    {
     "data": {
      "text/plain": [
       "(13, 3, 54)"
      ]
     },
     "execution_count": 288,
     "metadata": {},
     "output_type": "execute_result"
    }
   ],
   "source": [
    "YY.shape"
   ]
  },
  {
   "cell_type": "code",
   "execution_count": 289,
   "metadata": {},
   "outputs": [
    {
     "name": "stdout",
     "output_type": "stream",
     "text": [
      "0.0071035548509155964\n"
     ]
    }
   ],
   "source": [
    "inputX, inputY = XX, YY\n",
    "p1, p2 = 2, 1\n",
    "(loading, corr, error) = twoDcca_mat(inputX, inputY, p1=p1, p2=p2, x_regular=0.01, y_regular=0.01, iter_max=30)\n",
    "for i in range(20):\n",
    "    (loading_tmp, corr_tmp, error_tmp) = twoDcca_mat(inputX, inputY, p1=p1, p2=p2, x_regular=0.01, y_regular=0.01, iter_max=30)\n",
    "    if corr[-1]>corr_tmp[-1]:\n",
    "        corr = corr_tmp\n",
    "        loading = loading_tmp\n",
    "print(corr[-1])"
   ]
  },
  {
   "cell_type": "code",
   "execution_count": 290,
   "metadata": {},
   "outputs": [],
   "source": [
    "X_tf = towDcca_transform(XX, loading[0], loading[1])*100"
   ]
  },
  {
   "cell_type": "code",
   "execution_count": 291,
   "metadata": {},
   "outputs": [
    {
     "data": {
      "text/plain": [
       "array([ 99.93621324, 100.08431122, 100.10006817,  99.92003518,\n",
       "        99.80934682,  99.69912301, 100.24548013,  99.78706669,\n",
       "       100.07479731,  99.76035748, 100.22303784, 100.20947734,\n",
       "        99.86812253])"
      ]
     },
     "execution_count": 291,
     "metadata": {},
     "output_type": "execute_result"
    }
   ],
   "source": [
    "X_tf[:,0]"
   ]
  },
  {
   "cell_type": "code",
   "execution_count": 292,
   "metadata": {},
   "outputs": [
    {
     "data": {
      "text/plain": [
       "array([12.68265922, 12.70144054, 12.70345356, 12.68060479, 12.66656223,\n",
       "       12.65257933, 12.72189499, 12.66372209, 12.70024198, 12.66034173,\n",
       "       12.71905598, 12.71731889, 12.67401955])"
      ]
     },
     "execution_count": 292,
     "metadata": {},
     "output_type": "execute_result"
    }
   ],
   "source": [
    "X_tf[:,1]"
   ]
  },
  {
   "cell_type": "code",
   "execution_count": 293,
   "metadata": {},
   "outputs": [
    {
     "data": {
      "text/plain": [
       "<matplotlib.collections.PathCollection at 0x618186f98>"
      ]
     },
     "execution_count": 293,
     "metadata": {},
     "output_type": "execute_result"
    },
    {
     "data": {
      "image/png": "[encoded data removed]",
      "text/plain": [
       "<Figure size 432x288 with 1 Axes>"
      ]
     },
     "metadata": {},
     "output_type": "display_data"
    }
   ],
   "source": [
    "plt.scatter(X_tf[:8,0], X_tf[:8,1], c=\"r\")\n",
    "plt.scatter(X_tf[8:10,0], X_tf[8:10:,1], c=\"b\")\n",
    "plt.scatter(X_tf[10:,0], X_tf[10:,1],c=\"g\")"
   ]
  },
  {
   "cell_type": "code",
   "execution_count": 301,
   "metadata": {},
   "outputs": [
    {
     "data": {
      "text/plain": [
       "<matplotlib.collections.PathCollection at 0x61889f4e0>"
      ]
     },
     "execution_count": 301,
     "metadata": {},
     "output_type": "execute_result"
    },
    {
     "data": {
      "image/png": "[encoded data removed]",
      "text/plain": [
       "<Figure size 432x288 with 1 Axes>"
      ]
     },
     "metadata": {},
     "output_type": "display_data"
    }
   ],
   "source": [
    "plt.scatter(X_tf[:7,0], X_tf[:7,1], c=\"r\")\n",
    "plt.scatter(X_tf[7:10,0], X_tf[7:10:,1], c=\"b\")\n",
    "plt.scatter(X_tf[10:,0], X_tf[10:,1],c=\"g\")\n",
    "plt.scatter(X_tf[12,0], X_tf[12,1],c=\"k\")"
   ]
  },
  {
   "cell_type": "code",
   "execution_count": 418,
   "metadata": {},
   "outputs": [],
   "source": [
    "stations=[\"Guting\",\"Tucheng\",\"Taoyuan\",\"Hsinchu\",\"Toufen\",\"Erlin\",\n",
    "          \"Xinying\",\"Dongshan\", \"Hualien\",\"Taitung\",\"Magong\",\"Kinmen\",\"Matsu\"]"
   ]
  },
  {
   "cell_type": "code",
   "execution_count": 419,
   "metadata": {},
   "outputs": [],
   "source": [
    "X_tf = towDcca_transform(X, loading[0], loading[1])"
   ]
  },
  {
   "cell_type": "code",
   "execution_count": 420,
   "metadata": {},
   "outputs": [
    {
     "ename": "IndexError",
     "evalue": "index 1 is out of bounds for axis 1 with size 1",
     "output_type": "error",
     "traceback": [
      "\u001b[0;31m---------------------------------------------------------------------------\u001b[0m",
      "\u001b[0;31mIndexError\u001b[0m                                Traceback (most recent call last)",
      "\u001b[0;32m<ipython-input-420-ed869a7e0b3e>\u001b[0m in \u001b[0;36m<module>\u001b[0;34m()\u001b[0m\n\u001b[0;32m----> 1\u001b[0;31m \u001b[0mplt\u001b[0m\u001b[0;34m.\u001b[0m\u001b[0mscatter\u001b[0m\u001b[0;34m(\u001b[0m\u001b[0mX_tf\u001b[0m\u001b[0;34m[\u001b[0m\u001b[0;34m:\u001b[0m\u001b[0;34m,\u001b[0m\u001b[0;36m0\u001b[0m\u001b[0;34m]\u001b[0m\u001b[0;34m,\u001b[0m \u001b[0mX_tf\u001b[0m\u001b[0;34m[\u001b[0m\u001b[0;34m:\u001b[0m\u001b[0;34m,\u001b[0m\u001b[0;36m1\u001b[0m\u001b[0;34m]\u001b[0m\u001b[0;34m)\u001b[0m\u001b[0;34m\u001b[0m\u001b[0m\n\u001b[0m",
      "\u001b[0;31mIndexError\u001b[0m: index 1 is out of bounds for axis 1 with size 1"
     ]
    }
   ],
   "source": [
    "plt.scatter(X_tf[:,0], X_tf[:,1])"
   ]
  },
  {
   "cell_type": "code",
   "execution_count": 77,
   "metadata": {},
   "outputs": [
    {
     "ename": "NameError",
     "evalue": "name 'X_t' is not defined",
     "output_type": "error",
     "traceback": [
      "\u001b[0;31m---------------------------------------------------------------------------\u001b[0m",
      "\u001b[0;31mNameError\u001b[0m                                 Traceback (most recent call last)",
      "\u001b[0;32m<ipython-input-77-a1e40759b919>\u001b[0m in \u001b[0;36m<module>\u001b[0;34m()\u001b[0m\n\u001b[0;32m----> 1\u001b[0;31m \u001b[0mplt\u001b[0m\u001b[0;34m.\u001b[0m\u001b[0mscatter\u001b[0m\u001b[0;34m(\u001b[0m\u001b[0mX_t\u001b[0m\u001b[0;34m[\u001b[0m\u001b[0mindex\u001b[0m\u001b[0;34m%\u001b[0m\u001b[0;36m12\u001b[0m\u001b[0;34m==\u001b[0m\u001b[0;36m0\u001b[0m\u001b[0;34m,\u001b[0m\u001b[0;36m0\u001b[0m\u001b[0;34m]\u001b[0m\u001b[0;34m,\u001b[0m \u001b[0mX_t\u001b[0m\u001b[0;34m[\u001b[0m\u001b[0mindex\u001b[0m\u001b[0;34m%\u001b[0m\u001b[0;36m12\u001b[0m\u001b[0;34m==\u001b[0m\u001b[0;36m0\u001b[0m\u001b[0;34m,\u001b[0m\u001b[0;36m1\u001b[0m\u001b[0;34m]\u001b[0m\u001b[0;34m)\u001b[0m\u001b[0;34m\u001b[0m\u001b[0m\n\u001b[0m\u001b[1;32m      2\u001b[0m \u001b[0mplt\u001b[0m\u001b[0;34m.\u001b[0m\u001b[0mscatter\u001b[0m\u001b[0;34m(\u001b[0m\u001b[0mX_t\u001b[0m\u001b[0;34m[\u001b[0m\u001b[0mindex\u001b[0m\u001b[0;34m%\u001b[0m\u001b[0;36m12\u001b[0m\u001b[0;34m==\u001b[0m\u001b[0;36m8\u001b[0m\u001b[0;34m,\u001b[0m\u001b[0;36m0\u001b[0m\u001b[0;34m]\u001b[0m\u001b[0;34m,\u001b[0m \u001b[0mX_t\u001b[0m\u001b[0;34m[\u001b[0m\u001b[0mindex\u001b[0m\u001b[0;34m%\u001b[0m\u001b[0;36m12\u001b[0m\u001b[0;34m==\u001b[0m\u001b[0;36m8\u001b[0m\u001b[0;34m,\u001b[0m\u001b[0;36m1\u001b[0m\u001b[0;34m]\u001b[0m\u001b[0;34m)\u001b[0m\u001b[0;34m\u001b[0m\u001b[0m\n",
      "\u001b[0;31mNameError\u001b[0m: name 'X_t' is not defined"
     ]
    }
   ],
   "source": [
    "plt.scatter(X_t[index%12==0,0], X_t[index%12==0,1])\n",
    "plt.scatter(X_t[index%12==8,0], X_t[index%12==8,1])"
   ]
  },
  {
   "cell_type": "code",
   "execution_count": null,
   "metadata": {},
   "outputs": [],
   "source": []
  },
  {
   "cell_type": "code",
   "execution_count": 421,
   "metadata": {},
   "outputs": [],
   "source": [
    "def twoDpca_oneStep(u, X, rx):\n",
    "    (n, p) = X.shape\n",
    "    Sxx = np.matmul(X.T, X)/n+rx*np.eye(p)\n",
    "    return la.qr(Sxx@u,  mode='economic')[0]\n",
    "\n",
    "def twoDpca(X, k1, k2, rx, iter_max):\n",
    "    (_, m, n) = X.shape\n",
    "\n",
    "    loading = (L,R) = list(map(OMat, (m, n), (k1, k2)))\n",
    "\n",
    "    for n in range(iter_max):\n",
    "        XR = np.matmul(X, R)[:,:,0]\n",
    "        L = twoDpca_oneStep(L, XR, rx)\n",
    "        \n",
    "        LX = np.matmul(X.transpose(0,2,1), L)[:,:,0]\n",
    "        R = twoDpca_oneStep(R, LX, rx)\n",
    "        \n",
    "        loading = (L, R)\n",
    "        \n",
    "    return loading"
   ]
  },
  {
   "cell_type": "code",
   "execution_count": 422,
   "metadata": {},
   "outputs": [
    {
     "data": {
      "text/plain": [
       "(48, 7, 13)"
      ]
     },
     "execution_count": 422,
     "metadata": {},
     "output_type": "execute_result"
    }
   ],
   "source": [
    "X.shape"
   ]
  },
  {
   "cell_type": "code",
   "execution_count": 423,
   "metadata": {},
   "outputs": [],
   "source": [
    "X_pca = X.transpose(1,2,0)\n",
    "loading_pca = twoDpca(X_pca, k1=1, k2=2, rx=0.001, iter_max=11)"
   ]
  },
  {
   "cell_type": "code",
   "execution_count": 424,
   "metadata": {},
   "outputs": [],
   "source": [
    "X_tf = towDcca_transform(X_pca, loading_pca[0], loading_pca[1])"
   ]
  },
  {
   "cell_type": "code",
   "execution_count": 425,
   "metadata": {},
   "outputs": [
    {
     "data": {
      "image/png": "[encoded data removed]",
      "text/plain": [
       "<Figure size 432x288 with 1 Axes>"
      ]
     },
     "metadata": {},
     "output_type": "display_data"
    }
   ],
   "source": [
    "fig, ax = plt.subplots()\n",
    "ax.scatter(X_tf[:,0], X_tf[:,1])\n",
    "\n",
    "for i, txt in enumerate(data.columns[3:].values):\n",
    "    ax.annotate(txt, (X_tf[i,0], X_tf[i,1]))"
   ]
  },
  {
   "cell_type": "code",
   "execution_count": 481,
   "metadata": {},
   "outputs": [
    {
     "data": {
      "text/plain": [
       "(48, 7, 13)"
      ]
     },
     "execution_count": 481,
     "metadata": {},
     "output_type": "execute_result"
    }
   ],
   "source": [
    "X.shape"
   ]
  },
  {
   "cell_type": "code",
   "execution_count": 524,
   "metadata": {},
   "outputs": [],
   "source": [
    "XX = X.reshape(-1,12, 13, 7).transpose(3,0,2,1).reshape(-1,13,12)"
   ]
  },
  {
   "cell_type": "code",
   "execution_count": 525,
   "metadata": {},
   "outputs": [],
   "source": [
    "YY = np.tile(Y, 7).reshape(-1, 12, 3, 7).transpose(3,0,2,1).reshape(-1,3,12)"
   ]
  },
  {
   "cell_type": "code",
   "execution_count": 539,
   "metadata": {},
   "outputs": [
    {
     "name": "stdout",
     "output_type": "stream",
     "text": [
      "6.230485423354812\n"
     ]
    }
   ],
   "source": [
    "inputX, inputY = XX, YY\n",
    "p1, p2 = 2, 1\n",
    "(loading, corr, error) = twoDcca_mat(inputX, inputY, p1=p1, p2=p2, x_regular=0.01, y_regular=0.01, iter_max=2)\n",
    "for i in range(20):\n",
    "    (loading_tmp, corr_tmp, error_tmp) = twoDcca_mat(inputX, inputY, p1=p1, p2=p2, x_regular=0.1, y_regular=1, iter_max=30)\n",
    "    if corr[-1]<corr_tmp[-1]:\n",
    "        corr = corr_tmp\n",
    "        loading = loading_tmp\n",
    "print(corr[-1])"
   ]
  },
  {
   "cell_type": "code",
   "execution_count": 553,
   "metadata": {},
   "outputs": [],
   "source": [
    "XX -= XX.mean(axis=0)\n",
    "YY -= YY.mean(axis=0)"
   ]
  },
  {
   "cell_type": "code",
   "execution_count": 554,
   "metadata": {},
   "outputs": [
    {
     "data": {
      "image/png": "[encoded data removed]",
      "text/plain": [
       "<Figure size 432x288 with 1 Axes>"
      ]
     },
     "metadata": {},
     "output_type": "display_data"
    }
   ],
   "source": [
    "X_tf = towDcca_transform(XX, loading[0], loading[1])\n",
    "fig, ax = plt.subplots()\n",
    "ax.scatter(X_tf[:,0],X_tf[:,1])\n",
    "\n",
    "for i, txt in enumerate(np.tile(data.columns[2:].values, 4)):\n",
    "    ax.annotate(txt+\"_\"+str(i%4), (X_tf[i,0], X_tf[i,1]))"
   ]
  },
  {
   "cell_type": "code",
   "execution_count": 544,
   "metadata": {},
   "outputs": [
    {
     "data": {
      "text/plain": [
       "(28, 2)"
      ]
     },
     "execution_count": 544,
     "metadata": {},
     "output_type": "execute_result"
    }
   ],
   "source": [
    "X_tf.shape"
   ]
  },
  {
   "cell_type": "code",
   "execution_count": 545,
   "metadata": {},
   "outputs": [
    {
     "data": {
      "text/plain": [
       "(24,)"
      ]
     },
     "execution_count": 545,
     "metadata": {},
     "output_type": "execute_result"
    }
   ],
   "source": [
    "np.tile(data.columns[3:].values, 4).shape"
   ]
  },
  {
   "cell_type": "code",
   "execution_count": 547,
   "metadata": {},
   "outputs": [
    {
     "data": {
      "text/plain": [
       "array(['SO2', 'CO', 'O3', 'PM10', 'NOx', 'NO', 'NO2'], dtype=object)"
      ]
     },
     "execution_count": 547,
     "metadata": {},
     "output_type": "execute_result"
    }
   ],
   "source": []
  },
  {
   "cell_type": "code",
   "execution_count": null,
   "metadata": {},
   "outputs": [],
   "source": []
  }
 ],
 "metadata": {
  "kernelspec": {
   "display_name": "Python 3",
   "language": "python",
   "name": "python3"
  },
  "language_info": {
   "codemirror_mode": {
    "name": "ipython",
    "version": 3
   },
   "file_extension": ".py",
   "mimetype": "text/x-python",
   "name": "python",
   "nbconvert_exporter": "python",
   "pygments_lexer": "ipython3",
   "version": "3.7.0"
  }
 },
 "nbformat": 4,
 "nbformat_minor": 2
}
