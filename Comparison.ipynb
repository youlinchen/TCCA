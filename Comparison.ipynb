{
 "cells": [
  {
   "cell_type": "code",
   "execution_count": 1,
   "metadata": {},
   "outputs": [],
   "source": [
    "import numpy as np\n",
    "import scipy.linalg as la\n",
    "import pandas as pd\n",
    "import matplotlib.pyplot as plt\n",
    "import timeit"
   ]
  },
  {
   "cell_type": "code",
   "execution_count": 2,
   "metadata": {},
   "outputs": [],
   "source": [
    "from util import *"
   ]
  },
  {
   "cell_type": "markdown",
   "metadata": {},
   "source": [
    "# MINST"
   ]
  },
  {
   "cell_type": "code",
   "execution_count": 3,
   "metadata": {},
   "outputs": [],
   "source": [
    "# upper_train = np.genfromtxt(\"mnist/upper_train.csv\", delimiter=\",\").reshape(-1,14,28)\n",
    "# lower_train = np.genfromtxt(\"mnist/lower_train.csv\", delimiter=\",\").reshape(-1,14,28)\n",
    "# upper_test = np.genfromtxt(\"mnist/upper_test.csv\", delimiter=\",\").reshape(-1,14,28)\n",
    "# lower_test = np.genfromtxt(\"mnist/lower_test.csv\", delimiter=\",\").reshape(-1,14,28)"
   ]
  },
  {
   "cell_type": "code",
   "execution_count": 4,
   "metadata": {},
   "outputs": [],
   "source": [
    "# x_regular = 0.01\n",
    "# y_regular = 0.01\n",
    "# n_iter = 10\n",
    "# run_time = np.zeros(n_iter)\n",
    "# corr_train = np.zeros(n_iter)\n",
    "# corr_test = np.zeros(n_iter)\n",
    "# start = timeit.default_timer()\n",
    "# for k in range(n_iter):\n",
    "#     (Lx, Rx, Ly, Ry) = twoDcca(upper_train, lower_train,x_regular=x_regular, y_regular=y_regular)\n",
    "    \n",
    "#     X_tf = twoDcca_transform(upper_train, Lx, Rx)\n",
    "#     Y_tf = twoDcca_transform(lower_train, Ly, Ry)\n",
    "#     corr_train[k] = np.abs(sum(X_tf*Y_tf)/np.sqrt((X_tf*X_tf).sum())/np.sqrt((Y_tf*Y_tf).sum()))[0]\n",
    "    \n",
    "#     X_tf = twoDcca_transform(upper_test, Lx, Rx)\n",
    "#     Y_tf = twoDcca_transform(lower_test, Ly, Ry)\n",
    "#     corr_test[k] = np.abs(sum(X_tf*Y_tf)/np.sqrt((X_tf*X_tf).sum())/np.sqrt((Y_tf*Y_tf).sum()))[0]\n",
    "# stop = timeit.default_timer()\n",
    "# print(\"corr_train:\", np.mean(corr_train))\n",
    "# print(\"corr_test:\", np.mean(corr_test))\n",
    "# print('Time: ', (stop - start)/n_iter)  "
   ]
  },
  {
   "cell_type": "markdown",
   "metadata": {},
   "source": [
    "# Gene Expression"
   ]
  },
  {
   "cell_type": "code",
   "execution_count": 5,
   "metadata": {},
   "outputs": [],
   "source": [
    "exp = np.genfromtxt('gene_expression_data/exp.csv', delimiter=',')\n",
    "geno = np.genfromtxt('gene_expression_data/geno.csv', delimiter=',')\n",
    "gene_index_train = np.genfromtxt(\"gene_expression_data/gene_index_train.csv\", delimiter=\",\", dtype=\"int\")\n",
    "gene_index_test = np.genfromtxt(\"gene_expression_data/gene_index_test.csv\", delimiter=\",\",dtype=\"int\")"
   ]
  },
  {
   "cell_type": "code",
   "execution_count": 6,
   "metadata": {},
   "outputs": [],
   "source": [
    "geno_mat = geno.reshape(-1,50,100)\n",
    "exp_mat = exp.reshape(-1,50,100)\n",
    "\n",
    "geno_mat -= geno_mat.mean(axis=0)\n",
    "exp_mat -= exp_mat.mean(axis=0)\n",
    "\n",
    "geno_mat_train = geno_mat[gene_index_train, :, :]\n",
    "exp_mat_train = exp_mat[gene_index_train, :, :]\n",
    "geno_mat_test = geno_mat[gene_index_test, :, :]\n",
    "exp_mat_test = exp_mat[gene_index_test, :, :]"
   ]
  },
  {
   "cell_type": "code",
   "execution_count": 8,
   "metadata": {},
   "outputs": [
    {
     "name": "stdout",
     "output_type": "stream",
     "text": [
      "corr_train: 0.9792208506634725\n",
      "corr_test: 0.8176631415750144\n",
      "Time:  0.16490617748349906\n"
     ]
    }
   ],
   "source": [
    "x_regular = 1\n",
    "y_regular = 0.01\n",
    "n_iter = 10\n",
    "run_time = np.zeros(n_iter)\n",
    "corr_train = np.zeros(n_iter)\n",
    "corr_test = np.zeros(n_iter)\n",
    "start = timeit.default_timer()\n",
    "for k in range(n_iter):\n",
    "    (Lx, Rx, Ly, Ry), _ = twoDcca(geno_mat_train, exp_mat_train,x_regular=x_regular, y_regular=y_regular)\n",
    "    \n",
    "    X_tf = twoDcca_transform(geno_mat_train, Lx, Rx)\n",
    "    Y_tf = twoDcca_transform(exp_mat_train, Ly, Ry)\n",
    "    corr_train[k] = np.abs(sum(X_tf*Y_tf)/np.sqrt((X_tf*X_tf).sum())/np.sqrt((Y_tf*Y_tf).sum()))[0]\n",
    "    \n",
    "    X_tf = twoDcca_transform(geno_mat_test, Lx, Rx)\n",
    "    Y_tf = twoDcca_transform(exp_mat_test, Ly, Ry)\n",
    "    corr_test[k] = np.abs(sum(X_tf*Y_tf)/np.sqrt((X_tf*X_tf).sum())/np.sqrt((Y_tf*Y_tf).sum()))[0]\n",
    "stop = timeit.default_timer()\n",
    "print(\"corr_train:\", np.mean(corr_train))\n",
    "print(\"corr_test:\", np.mean(corr_test))\n",
    "print('Time: ', (stop - start)/n_iter)  "
   ]
  },
  {
   "cell_type": "markdown",
   "metadata": {},
   "source": [
    "# Adelaide"
   ]
  },
  {
   "cell_type": "code",
   "execution_count": 10,
   "metadata": {},
   "outputs": [],
   "source": [
    "D_train = np.genfromtxt(\"Adelaide/D_train.csv\", delimiter=\",\").reshape(-1,48,7)\n",
    "T_train = np.genfromtxt(\"Adelaide/T_train.csv\", delimiter=\",\").reshape(-1,48,7)\n",
    "D_test = np.genfromtxt(\"Adelaide/D_test.csv\", delimiter=\",\").reshape(-1,48,7)\n",
    "T_test = np.genfromtxt(\"Adelaide/T_test.csv\", delimiter=\",\").reshape(-1,48,7)"
   ]
  },
  {
   "cell_type": "code",
   "execution_count": 11,
   "metadata": {},
   "outputs": [
    {
     "name": "stdout",
     "output_type": "stream",
     "text": [
      "corr_train: 0.9727670753106963\n",
      "corr_test: 0.9697619367001705\n",
      "Time:  0.07044510601554066\n"
     ]
    }
   ],
   "source": [
    "x_regular = 0.01\n",
    "y_regular = 0.01\n",
    "n_iter = 10\n",
    "run_time = np.zeros(n_iter)\n",
    "corr_train = np.zeros(n_iter)\n",
    "corr_test = np.zeros(n_iter)\n",
    "start = timeit.default_timer()\n",
    "for k in range(n_iter):\n",
    "    (Lx, Rx, Ly, Ry),_ = twoDcca(D_train, T_train,x_regular=x_regular, y_regular=y_regular)\n",
    "    \n",
    "    X_tf = twoDcca_transform(D_train, Lx, Rx)\n",
    "    Y_tf = twoDcca_transform(T_train, Ly, Ry)\n",
    "    corr_train[k] = np.abs(sum(X_tf*Y_tf)/np.sqrt((X_tf*X_tf).sum())/np.sqrt((Y_tf*Y_tf).sum()))[0]\n",
    "    \n",
    "    X_tf = twoDcca_transform(D_test, Lx, Rx)\n",
    "    Y_tf = twoDcca_transform(T_test, Ly, Ry)\n",
    "    corr_test[k] = np.abs(sum(X_tf*Y_tf)/np.sqrt((X_tf*X_tf).sum())/np.sqrt((Y_tf*Y_tf).sum()))[0]\n",
    "stop = timeit.default_timer()\n",
    "print(\"corr_train:\", np.mean(corr_train))\n",
    "print(\"corr_test:\", np.mean(corr_test))\n",
    "print('Time: ', (stop - start)/n_iter)  "
   ]
  }
 ],
 "metadata": {
  "kernelspec": {
   "display_name": "Python 3",
   "language": "python",
   "name": "python3"
  },
  "language_info": {
   "codemirror_mode": {
    "name": "ipython",
    "version": 3
   },
   "file_extension": ".py",
   "mimetype": "text/x-python",
   "name": "python",
   "nbconvert_exporter": "python",
   "pygments_lexer": "ipython3",
   "version": "3.6.7"
  }
 },
 "nbformat": 4,
 "nbformat_minor": 4
}
